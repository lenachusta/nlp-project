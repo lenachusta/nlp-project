{
 "cells": [
  {
   "cell_type": "markdown",
   "metadata": {},
   "source": [
    "# Проект для «Викишоп»"
   ]
  },
  {
   "cell_type": "markdown",
   "metadata": {},
   "source": [
    "Интернет-магазин «Викишоп» запускает новый сервис. Теперь пользователи могут редактировать и дополнять описания товаров, как в вики-сообществах. То есть клиенты предлагают свои правки и комментируют изменения других. Магазину нужен инструмент, который будет искать токсичные комментарии и отправлять их на модерацию. \n",
    "\n",
    "Обучите модель классифицировать комментарии на позитивные и негативные. В вашем распоряжении набор данных с разметкой о токсичности правок.\n",
    "\n",
    "Постройте модель со значением метрики качества *F1* не меньше 0.75. \n",
    "\n",
    "**Инструкция по выполнению проекта**\n",
    "\n",
    "1. Загрузите и подготовьте данные.\n",
    "2. Обучите разные модели. \n",
    "3. Сделайте выводы.\n",
    "\n",
    "Для выполнения проекта применять *BERT* необязательно, но вы можете попробовать.\n",
    "\n",
    "**Описание данных**\n",
    "\n",
    "Данные находятся в файле `toxic_comments.csv`. Столбец *text* в нём содержит текст комментария, а *toxic* — целевой признак."
   ]
  },
  {
   "cell_type": "markdown",
   "metadata": {},
   "source": [
    "## Подготовка"
   ]
  },
  {
   "cell_type": "markdown",
   "metadata": {},
   "source": [
    "### Загрузка и изучение данных"
   ]
  },
  {
   "cell_type": "markdown",
   "metadata": {},
   "source": [
    "Импорт библиотек `pandas` и `matplotlib`, а также необходимых функций из библиотеки `sklearn`:"
   ]
  },
  {
   "cell_type": "code",
   "execution_count": 1,
   "metadata": {},
   "outputs": [],
   "source": [
    "import numpy as np\n",
    "import pandas as pd\n",
    "import matplotlib.pyplot as plt\n",
    "import re\n",
    "import spacy\n",
    "import nltk\n",
    "from sklearn.pipeline import Pipeline\n",
    "from nltk.corpus import stopwords as nltk_stopwords\n",
    "from sklearn.feature_extraction.text import TfidfVectorizer\n",
    "from sklearn.linear_model import LogisticRegression\n",
    "from sklearn.tree import DecisionTreeClassifier\n",
    "from sklearn.ensemble import RandomForestClassifier\n",
    "from sklearn.model_selection import GridSearchCV\n",
    "from sklearn.model_selection import cross_val_score\n",
    "from sklearn.model_selection import train_test_split\n",
    "from sklearn.utils import shuffle\n",
    "from sklearn.metrics import f1_score\n",
    "from sklearn.metrics import roc_auc_score\n",
    "from sklearn.metrics import roc_curve"
   ]
  },
  {
   "cell_type": "markdown",
   "metadata": {},
   "source": [
    "Отключим вывод предупреждений."
   ]
  },
  {
   "cell_type": "code",
   "execution_count": 2,
   "metadata": {},
   "outputs": [],
   "source": [
    "import warnings\n",
    "warnings.filterwarnings('ignore')"
   ]
  },
  {
   "cell_type": "markdown",
   "metadata": {},
   "source": [
    "Чтение csv-файла и вывод первых 10 строк."
   ]
  },
  {
   "cell_type": "code",
   "execution_count": 3,
   "metadata": {
    "scrolled": false
   },
   "outputs": [
    {
     "data": {
      "text/html": [
       "<div>\n",
       "<style scoped>\n",
       "    .dataframe tbody tr th:only-of-type {\n",
       "        vertical-align: middle;\n",
       "    }\n",
       "\n",
       "    .dataframe tbody tr th {\n",
       "        vertical-align: top;\n",
       "    }\n",
       "\n",
       "    .dataframe thead th {\n",
       "        text-align: right;\n",
       "    }\n",
       "</style>\n",
       "<table border=\"1\" class=\"dataframe\">\n",
       "  <thead>\n",
       "    <tr style=\"text-align: right;\">\n",
       "      <th></th>\n",
       "      <th>Unnamed: 0</th>\n",
       "      <th>text</th>\n",
       "      <th>toxic</th>\n",
       "    </tr>\n",
       "  </thead>\n",
       "  <tbody>\n",
       "    <tr>\n",
       "      <th>0</th>\n",
       "      <td>0</td>\n",
       "      <td>Explanation\\nWhy the edits made under my usern...</td>\n",
       "      <td>0</td>\n",
       "    </tr>\n",
       "    <tr>\n",
       "      <th>1</th>\n",
       "      <td>1</td>\n",
       "      <td>D'aww! He matches this background colour I'm s...</td>\n",
       "      <td>0</td>\n",
       "    </tr>\n",
       "    <tr>\n",
       "      <th>2</th>\n",
       "      <td>2</td>\n",
       "      <td>Hey man, I'm really not trying to edit war. It...</td>\n",
       "      <td>0</td>\n",
       "    </tr>\n",
       "    <tr>\n",
       "      <th>3</th>\n",
       "      <td>3</td>\n",
       "      <td>\"\\nMore\\nI can't make any real suggestions on ...</td>\n",
       "      <td>0</td>\n",
       "    </tr>\n",
       "    <tr>\n",
       "      <th>4</th>\n",
       "      <td>4</td>\n",
       "      <td>You, sir, are my hero. Any chance you remember...</td>\n",
       "      <td>0</td>\n",
       "    </tr>\n",
       "    <tr>\n",
       "      <th>5</th>\n",
       "      <td>5</td>\n",
       "      <td>\"\\n\\nCongratulations from me as well, use the ...</td>\n",
       "      <td>0</td>\n",
       "    </tr>\n",
       "    <tr>\n",
       "      <th>6</th>\n",
       "      <td>6</td>\n",
       "      <td>COCKSUCKER BEFORE YOU PISS AROUND ON MY WORK</td>\n",
       "      <td>1</td>\n",
       "    </tr>\n",
       "    <tr>\n",
       "      <th>7</th>\n",
       "      <td>7</td>\n",
       "      <td>Your vandalism to the Matt Shirvington article...</td>\n",
       "      <td>0</td>\n",
       "    </tr>\n",
       "    <tr>\n",
       "      <th>8</th>\n",
       "      <td>8</td>\n",
       "      <td>Sorry if the word 'nonsense' was offensive to ...</td>\n",
       "      <td>0</td>\n",
       "    </tr>\n",
       "    <tr>\n",
       "      <th>9</th>\n",
       "      <td>9</td>\n",
       "      <td>alignment on this subject and which are contra...</td>\n",
       "      <td>0</td>\n",
       "    </tr>\n",
       "  </tbody>\n",
       "</table>\n",
       "</div>"
      ],
      "text/plain": [
       "   Unnamed: 0                                               text  toxic\n",
       "0           0  Explanation\\nWhy the edits made under my usern...      0\n",
       "1           1  D'aww! He matches this background colour I'm s...      0\n",
       "2           2  Hey man, I'm really not trying to edit war. It...      0\n",
       "3           3  \"\\nMore\\nI can't make any real suggestions on ...      0\n",
       "4           4  You, sir, are my hero. Any chance you remember...      0\n",
       "5           5  \"\\n\\nCongratulations from me as well, use the ...      0\n",
       "6           6       COCKSUCKER BEFORE YOU PISS AROUND ON MY WORK      1\n",
       "7           7  Your vandalism to the Matt Shirvington article...      0\n",
       "8           8  Sorry if the word 'nonsense' was offensive to ...      0\n",
       "9           9  alignment on this subject and which are contra...      0"
      ]
     },
     "execution_count": 3,
     "metadata": {},
     "output_type": "execute_result"
    }
   ],
   "source": [
    "df = pd.read_csv('/datasets/toxic_comments.csv')\n",
    "df.head(10)"
   ]
  },
  {
   "cell_type": "markdown",
   "metadata": {},
   "source": [
    "Вывод информации о таблице методом `info()`."
   ]
  },
  {
   "cell_type": "code",
   "execution_count": 4,
   "metadata": {},
   "outputs": [
    {
     "name": "stdout",
     "output_type": "stream",
     "text": [
      "<class 'pandas.core.frame.DataFrame'>\n",
      "RangeIndex: 159292 entries, 0 to 159291\n",
      "Data columns (total 3 columns):\n",
      " #   Column      Non-Null Count   Dtype \n",
      "---  ------      --------------   ----- \n",
      " 0   Unnamed: 0  159292 non-null  int64 \n",
      " 1   text        159292 non-null  object\n",
      " 2   toxic       159292 non-null  int64 \n",
      "dtypes: int64(2), object(1)\n",
      "memory usage: 3.6+ MB\n"
     ]
    }
   ],
   "source": [
    "df.info()"
   ]
  },
  {
   "cell_type": "markdown",
   "metadata": {},
   "source": [
    "Удалим лишний столбец `Unnamed: 0`."
   ]
  },
  {
   "cell_type": "code",
   "execution_count": 5,
   "metadata": {},
   "outputs": [],
   "source": [
    "df = df.drop('Unnamed: 0', axis=1)"
   ]
  },
  {
   "cell_type": "markdown",
   "metadata": {},
   "source": [
    "### Очистка и лемматизация текста"
   ]
  },
  {
   "cell_type": "markdown",
   "metadata": {},
   "source": [
    "Напишем функцию `clear_text()` для очистки текста. С помощью регулярного выражения оставим только буквы английского алфавита и пробелы."
   ]
  },
  {
   "cell_type": "code",
   "execution_count": 6,
   "metadata": {},
   "outputs": [],
   "source": [
    "def clear_text(text):\n",
    "    c_list = re.sub(r'[^a-zA-Z ]', ' ', text).split() \n",
    "    c_text = \" \".join(c_list)\n",
    "    return c_text"
   ]
  },
  {
   "cell_type": "markdown",
   "metadata": {},
   "source": [
    "Также напишем функцию для лемматизации текста `lemmatize()`. Лемматизировать тект будем с помощью библиотеки `spacy`."
   ]
  },
  {
   "cell_type": "code",
   "execution_count": 7,
   "metadata": {},
   "outputs": [],
   "source": [
    "nlp = spacy.load(\"en_core_web_sm\", disable=['parser', 'ner'])\n",
    "\n",
    "def lemmatize(text):\n",
    "    doc = nlp(text)\n",
    "    lemm_text = \" \".join([token.lemma_ for token in doc])\n",
    "    return lemm_text"
   ]
  },
  {
   "cell_type": "markdown",
   "metadata": {},
   "source": [
    "Применим созданные функции к столбцу `text`. Сначала текст очистим, затем лемматизируем."
   ]
  },
  {
   "cell_type": "code",
   "execution_count": 8,
   "metadata": {},
   "outputs": [
    {
     "data": {
      "application/vnd.jupyter.widget-view+json": {
       "model_id": "edab22d8a1be4b86903048fb977dc563",
       "version_major": 2,
       "version_minor": 0
      },
      "text/plain": [
       "  0%|          | 0/159292 [00:00<?, ?it/s]"
      ]
     },
     "metadata": {},
     "output_type": "display_data"
    },
    {
     "data": {
      "application/vnd.jupyter.widget-view+json": {
       "model_id": "cb79c1448a044ab1a499ceffbce15a00",
       "version_major": 2,
       "version_minor": 0
      },
      "text/plain": [
       "  0%|          | 0/159292 [00:00<?, ?it/s]"
      ]
     },
     "metadata": {},
     "output_type": "display_data"
    }
   ],
   "source": [
    "from tqdm.notebook import tqdm\n",
    "\n",
    "tqdm.pandas()\n",
    "\n",
    "df['lemm_text'] = df['text'].progress_apply(clear_text)\n",
    "df['lemm_text'] = df['lemm_text'].progress_apply(lemmatize)"
   ]
  },
  {
   "cell_type": "markdown",
   "metadata": {},
   "source": [
    "Выведем первые строки обновленной таблицы."
   ]
  },
  {
   "cell_type": "code",
   "execution_count": 9,
   "metadata": {},
   "outputs": [
    {
     "data": {
      "text/html": [
       "<div>\n",
       "<style scoped>\n",
       "    .dataframe tbody tr th:only-of-type {\n",
       "        vertical-align: middle;\n",
       "    }\n",
       "\n",
       "    .dataframe tbody tr th {\n",
       "        vertical-align: top;\n",
       "    }\n",
       "\n",
       "    .dataframe thead th {\n",
       "        text-align: right;\n",
       "    }\n",
       "</style>\n",
       "<table border=\"1\" class=\"dataframe\">\n",
       "  <thead>\n",
       "    <tr style=\"text-align: right;\">\n",
       "      <th></th>\n",
       "      <th>text</th>\n",
       "      <th>toxic</th>\n",
       "      <th>lemm_text</th>\n",
       "    </tr>\n",
       "  </thead>\n",
       "  <tbody>\n",
       "    <tr>\n",
       "      <th>0</th>\n",
       "      <td>Explanation\\nWhy the edits made under my usern...</td>\n",
       "      <td>0</td>\n",
       "      <td>explanation why the edit make under my usernam...</td>\n",
       "    </tr>\n",
       "    <tr>\n",
       "      <th>1</th>\n",
       "      <td>D'aww! He matches this background colour I'm s...</td>\n",
       "      <td>0</td>\n",
       "      <td>d aww he match this background colour I m seem...</td>\n",
       "    </tr>\n",
       "    <tr>\n",
       "      <th>2</th>\n",
       "      <td>Hey man, I'm really not trying to edit war. It...</td>\n",
       "      <td>0</td>\n",
       "      <td>hey man I m really not try to edit war it s ju...</td>\n",
       "    </tr>\n",
       "    <tr>\n",
       "      <th>3</th>\n",
       "      <td>\"\\nMore\\nI can't make any real suggestions on ...</td>\n",
       "      <td>0</td>\n",
       "      <td>More I can t make any real suggestion on impro...</td>\n",
       "    </tr>\n",
       "    <tr>\n",
       "      <th>4</th>\n",
       "      <td>You, sir, are my hero. Any chance you remember...</td>\n",
       "      <td>0</td>\n",
       "      <td>you sir be my hero any chance you remember wha...</td>\n",
       "    </tr>\n",
       "  </tbody>\n",
       "</table>\n",
       "</div>"
      ],
      "text/plain": [
       "                                                text  toxic  \\\n",
       "0  Explanation\\nWhy the edits made under my usern...      0   \n",
       "1  D'aww! He matches this background colour I'm s...      0   \n",
       "2  Hey man, I'm really not trying to edit war. It...      0   \n",
       "3  \"\\nMore\\nI can't make any real suggestions on ...      0   \n",
       "4  You, sir, are my hero. Any chance you remember...      0   \n",
       "\n",
       "                                           lemm_text  \n",
       "0  explanation why the edit make under my usernam...  \n",
       "1  d aww he match this background colour I m seem...  \n",
       "2  hey man I m really not try to edit war it s ju...  \n",
       "3  More I can t make any real suggestion on impro...  \n",
       "4  you sir be my hero any chance you remember wha...  "
      ]
     },
     "execution_count": 9,
     "metadata": {},
     "output_type": "execute_result"
    }
   ],
   "source": [
    "df.head()"
   ]
  },
  {
   "cell_type": "markdown",
   "metadata": {},
   "source": [
    "### Создание признаков и разбиение данных на выборки"
   ]
  },
  {
   "cell_type": "markdown",
   "metadata": {},
   "source": [
    "Определим список стоп-слов на английском языке с помощью библиотеки `nltk`."
   ]
  },
  {
   "cell_type": "code",
   "execution_count": 10,
   "metadata": {},
   "outputs": [
    {
     "name": "stderr",
     "output_type": "stream",
     "text": [
      "[nltk_data] Downloading package stopwords to /home/jovyan/nltk_data...\n",
      "[nltk_data]   Package stopwords is already up-to-date!\n"
     ]
    }
   ],
   "source": [
    "nltk.download('stopwords')\n",
    "stopwords = set(nltk_stopwords.words('english'))"
   ]
  },
  {
   "cell_type": "markdown",
   "metadata": {},
   "source": [
    "Разделим датасет на `features` - признаки и `target` - целевой признак."
   ]
  },
  {
   "cell_type": "code",
   "execution_count": 11,
   "metadata": {},
   "outputs": [],
   "source": [
    "features = df['lemm_text']\n",
    "target = df['toxic']"
   ]
  },
  {
   "cell_type": "markdown",
   "metadata": {},
   "source": [
    "Разделим данные на тестовую и обучающую выборки в соотношении 25:75."
   ]
  },
  {
   "cell_type": "code",
   "execution_count": 12,
   "metadata": {},
   "outputs": [],
   "source": [
    "features_train, features_test, target_train, target_test = \\\n",
    "train_test_split(features, target, test_size=0.25, random_state=12345, stratify=target)"
   ]
  },
  {
   "cell_type": "markdown",
   "metadata": {},
   "source": [
    "### Исследование дисбаланса классов"
   ]
  },
  {
   "cell_type": "code",
   "execution_count": 14,
   "metadata": {
    "scrolled": true
   },
   "outputs": [
    {
     "data": {
      "image/png": "[encoded data removed]",
      "text/plain": [
       "<Figure size 432x288 with 1 Axes>"
      ]
     },
     "metadata": {},
     "output_type": "display_data"
    }
   ],
   "source": [
    "df.value_counts('toxic').plot(kind='pie', autopct='%1.0f%%', legend=True, title=\"Токсичен текст или нет\")\n",
    "plt.show()"
   ]
  },
  {
   "cell_type": "markdown",
   "metadata": {},
   "source": [
    "На диаграмме виден дисбаланс классов, нетоксичных комментариев в 9 раза больше, чем токсичных."
   ]
  },
  {
   "cell_type": "markdown",
   "metadata": {},
   "source": [
    "## Обучение"
   ]
  },
  {
   "cell_type": "markdown",
   "metadata": {},
   "source": [
    "### Модель решающего дерева"
   ]
  },
  {
   "cell_type": "markdown",
   "metadata": {},
   "source": [
    "С помощью `GridSearchCV` будем изменять гиперпараметр модели решающего дерева `max_depth` от 20 до 30 с шагом 2. Также используем кросс-валидацию с параметром `cv=5`."
   ]
  },
  {
   "cell_type": "code",
   "execution_count": 17,
   "metadata": {},
   "outputs": [
    {
     "name": "stdout",
     "output_type": "stream",
     "text": [
      "Средняя оценка F1 лучшей модели: 0.638\n",
      "Глубина дерева: 30\n",
      "CPU times: user 9min 55s, sys: 1.83 s, total: 9min 57s\n",
      "Wall time: 9min 58s\n"
     ]
    }
   ],
   "source": [
    "%%time\n",
    "count_tf_idf = TfidfVectorizer(stop_words=stopwords)\n",
    "dtc_model = DecisionTreeClassifier(random_state=12345, class_weight='balanced')\n",
    "\n",
    "dtc_pipe = Pipeline([('count_tf_idf', count_tf_idf), \n",
    "                 ('dtc_model', dtc_model)])\n",
    "\n",
    "dtc_parametrs = {'dtc_model__max_depth': range(20, 31, 2)}\n",
    "\n",
    "dtc_grid = GridSearchCV(dtc_pipe, cv=5, param_grid=dtc_parametrs, scoring='f1')\n",
    "dtc_grid.fit(features_train, target_train)\n",
    "\n",
    "print(f'Средняя оценка F1 лучшей модели: {dtc_grid.best_score_:.3f}')\n",
    "print(\"Глубина дерева:\", dtc_grid.best_params_['dtc_model__max_depth'])"
   ]
  },
  {
   "cell_type": "markdown",
   "metadata": {},
   "source": [
    "### Модель случайного леса"
   ]
  },
  {
   "cell_type": "markdown",
   "metadata": {},
   "source": [
    "С помощью `GridSearchCV` будем изменять гиперпараметры модели случайного леса `n_estimators` от 70 до 100 с шагом 10 и `max_depth` от 1 до 10 с шагом 2. Также используем кросс-валидацию с параметром `cv=5`."
   ]
  },
  {
   "cell_type": "code",
   "execution_count": 19,
   "metadata": {},
   "outputs": [
    {
     "name": "stdout",
     "output_type": "stream",
     "text": [
      "Средняя оценка F1 лучшей модели: 0.355\n",
      "Глубина дерева: 9\n",
      "Количество деревьев: 100\n",
      "CPU times: user 11min 21s, sys: 3.24 s, total: 11min 24s\n",
      "Wall time: 11min 26s\n"
     ]
    }
   ],
   "source": [
    "%%time\n",
    "rfc_model = RandomForestClassifier(random_state=12345, class_weight='balanced')\n",
    "\n",
    "rfc_pipe = Pipeline([('count_tf_idf', count_tf_idf), \n",
    "                 ('rfc_model', rfc_model)])\n",
    "\n",
    "rfc_parametrs = {'rfc_model__max_depth': range(1, 11, 2), 'rfc_model__n_estimators': range(70, 101, 10)}\n",
    "\n",
    "rfc_grid = GridSearchCV(rfc_pipe, cv=5, param_grid=rfc_parametrs, scoring='f1')\n",
    "rfc_grid.fit(features_train, target_train)\n",
    "\n",
    "print(f'Средняя оценка F1 лучшей модели: {rfc_grid.best_score_:.3f}')\n",
    "print(\"Глубина дерева:\", rfc_grid.best_params_['rfc_model__max_depth'])\n",
    "print(\"Количество деревьев:\", rfc_grid.best_params_['rfc_model__n_estimators'])"
   ]
  },
  {
   "cell_type": "markdown",
   "metadata": {},
   "source": [
    "### Модель логистической регрессии"
   ]
  },
  {
   "cell_type": "markdown",
   "metadata": {},
   "source": [
    "С помощью `GridSearchCV` будем изменять гиперпараметр модели логистической регрессии `C` от 6 до 15 с шагом 2. Также используем кросс-валидацию с параметром `cv=5`."
   ]
  },
  {
   "cell_type": "code",
   "execution_count": 23,
   "metadata": {},
   "outputs": [
    {
     "name": "stdout",
     "output_type": "stream",
     "text": [
      "Средняя оценка F1 лучшей модели: 0.763\n",
      "C: 8\n",
      "CPU times: user 16min 23s, sys: 27min 41s, total: 44min 5s\n",
      "Wall time: 44min 7s\n"
     ]
    }
   ],
   "source": [
    "%%time\n",
    "lr_model = LogisticRegression(max_iter=1000, class_weight='balanced', random_state=12345)\n",
    "\n",
    "lr_pipe = Pipeline([('count_tf_idf', count_tf_idf), \n",
    "                 ('lr_model', lr_model)])\n",
    "\n",
    "lr_parametrs = {'lr_model__C': range(6, 16, 2)}\n",
    "\n",
    "lr_grid = GridSearchCV(lr_pipe, cv=5, param_grid=lr_parametrs, scoring='f1')\n",
    "lr_grid.fit(features_train, target_train)\n",
    "\n",
    "print(f'Средняя оценка F1 лучшей модели: {lr_grid.best_score_:.3f}')\n",
    "print(\"C:\", lr_grid.best_params_['lr_model__C'])"
   ]
  },
  {
   "cell_type": "markdown",
   "metadata": {},
   "source": [
    "## Тестирование модели"
   ]
  },
  {
   "cell_type": "markdown",
   "metadata": {},
   "source": [
    "Проверим лучшую модель - логистическую регрессию на тестовой выборке. Посчитаем `F1-меру` и `AUC-ROC` на тестовой выборке."
   ]
  },
  {
   "cell_type": "code",
   "execution_count": 24,
   "metadata": {},
   "outputs": [
    {
     "name": "stdout",
     "output_type": "stream",
     "text": [
      "F1-мера лучшей модели на тестовой выборке: 0.771\n"
     ]
    }
   ],
   "source": [
    "predictions = lr_grid.best_estimator_.predict(features_test)\n",
    "print(f'F1-мера лучшей модели на тестовой выборке: {f1_score(target_test, predictions):.3f}')"
   ]
  },
  {
   "cell_type": "code",
   "execution_count": 26,
   "metadata": {},
   "outputs": [
    {
     "name": "stdout",
     "output_type": "stream",
     "text": [
      "AUC-ROC лучшей модели на тестовой выборке: 0.970\n"
     ]
    }
   ],
   "source": [
    "probabilities_test = lr_grid.best_estimator_.predict_proba(features_test)\n",
    "probabilities_one_test = probabilities_test[:, 1]\n",
    "\n",
    "print(f'AUC-ROC лучшей модели на тестовой выборке: {roc_auc_score(target_test, probabilities_one_test):.3f}')"
   ]
  },
  {
   "cell_type": "markdown",
   "metadata": {},
   "source": [
    "На тестовой выборке `F1-мера` лучшей модели уменьшилась. Значение `AUC-ROC` больше `F1-меры`."
   ]
  },
  {
   "cell_type": "markdown",
   "metadata": {},
   "source": [
    "Построим ROC-кривую для лучшей модели и случайной модели на тестовой выборке."
   ]
  },
  {
   "cell_type": "code",
   "execution_count": 27,
   "metadata": {},
   "outputs": [
    {
     "data": {
      "image/png": "[encoded data removed]",
      "text/plain": [
       "<Figure size 432x288 with 1 Axes>"
      ]
     },
     "metadata": {
      "needs_background": "light"
     },
     "output_type": "display_data"
    }
   ],
   "source": [
    "fpr, tpr, thresholds = roc_curve(target_test, probabilities_one_test)\n",
    "\n",
    "plt.figure()\n",
    "\n",
    "plt.plot(fpr, tpr)\n",
    "\n",
    "plt.plot([0, 1], [0, 1], linestyle='--')\n",
    "\n",
    "plt.xlim([0.0, 1.0])\n",
    "plt.ylim([0.0, 1.0])\n",
    "\n",
    "plt.xlabel('False Positive Rate')\n",
    "plt.ylabel('True Positive Rate')\n",
    "\n",
    "plt.title('ROC-кривая')\n",
    "plt.legend(['Лучшая модель','Случайная модель'])\n",
    "plt.show()"
   ]
  },
  {
   "cell_type": "markdown",
   "metadata": {},
   "source": [
    "Для модели, которая всегда отвечает случайно, ROC-кривая выглядит как прямая, идущая из левого нижнего угла в верхний правый. Чем график выше, тем больше значение TPR и лучше качество модели. Значение `AUC-ROC` и качество модели достаточно хорошее."
   ]
  },
  {
   "cell_type": "markdown",
   "metadata": {},
   "source": [
    "## Общий вывод"
   ]
  },
  {
   "cell_type": "markdown",
   "metadata": {},
   "source": [
    "В результате исследования были выполнены следующие шаги: подготовка данных, обучение и тестирование моделей.\n",
    "\n",
    "На этапе подготовки данные были загружены и изучены. В данных был лишний столбец, который был удален. Текстовые данные были очищены, т. е. были удалены лишние символы, остались только английские слова и пробелы. Затем текст был лемматизирован - форма слов была приведена к начальной. Также данные были поделены на выборки - обучающую и тестовую. Признаки создавались с помощью расчета TF-IDF, текст был перведен в векторы. В данных наблюдается сильный дисбаланс классов.\n",
    "\n",
    "На этапе обучения и тестирования моделей были рассмотрены три модели: решающее дерево, случайный лес и логистическая регрессия. Для всех моделей для поиска лучших гиперпараметров использовался GridSearchCV, также при обучении и проверке моделей использовалась кросс-валидация. Наилучшие значения F1 у модели логистической регресии с гиперпараметрами max_iter=1000, class_weight='balanced', C=8.\n",
    "\n",
    "Было проведено тестирование лучшей модели - логистической регресии, обученной на увеличенной выборке. Значение F1-меры на тестовой выборке - 0.771, AUC-ROC - 0.970, также был построен график ROC-кривой."
   ]
  }
 ],
 "metadata": {
  "ExecuteTimeLog": [
   {
    "duration": 2172,
    "start_time": "2022-11-24T07:19:35.271Z"
   },
   {
    "duration": 2704,
    "start_time": "2022-11-24T07:20:28.107Z"
   },
   {
    "duration": 797,
    "start_time": "2022-11-24T07:20:51.158Z"
   },
   {
    "duration": 847,
    "start_time": "2022-11-24T07:21:02.000Z"
   },
   {
    "duration": 35,
    "start_time": "2022-11-24T07:21:28.778Z"
   },
   {
    "duration": 28,
    "start_time": "2022-11-24T07:21:44.728Z"
   },
   {
    "duration": 494,
    "start_time": "2022-11-24T07:23:42.974Z"
   },
   {
    "duration": 7,
    "start_time": "2022-11-24T07:28:42.282Z"
   },
   {
    "duration": 3,
    "start_time": "2022-11-24T07:28:50.002Z"
   },
   {
    "duration": 157,
    "start_time": "2022-11-24T07:30:00.756Z"
   },
   {
    "duration": 13,
    "start_time": "2022-11-24T07:30:08.311Z"
   },
   {
    "duration": 54,
    "start_time": "2022-11-24T07:30:12.372Z"
   },
   {
    "duration": 942,
    "start_time": "2022-11-24T07:31:13.594Z"
   },
   {
    "duration": 47,
    "start_time": "2022-11-24T07:32:02.563Z"
   },
   {
    "duration": 48,
    "start_time": "2022-11-24T07:32:08.281Z"
   },
   {
    "duration": 32,
    "start_time": "2022-11-24T07:32:13.663Z"
   },
   {
    "duration": 248,
    "start_time": "2022-11-24T07:33:40.103Z"
   },
   {
    "duration": 18,
    "start_time": "2022-11-24T07:33:48.241Z"
   },
   {
    "duration": 31,
    "start_time": "2022-11-24T07:34:13.873Z"
   },
   {
    "duration": 72,
    "start_time": "2022-11-24T10:35:54.170Z"
   },
   {
    "duration": 756,
    "start_time": "2022-11-24T10:35:57.911Z"
   },
   {
    "duration": 21,
    "start_time": "2022-11-24T10:37:18.414Z"
   },
   {
    "duration": 232,
    "start_time": "2022-11-24T10:38:48.540Z"
   },
   {
    "duration": 1982,
    "start_time": "2022-11-24T10:38:55.927Z"
   },
   {
    "duration": 57643,
    "start_time": "2022-11-24T10:49:56.749Z"
   },
   {
    "duration": 1081933,
    "start_time": "2022-11-24T10:51:00.279Z"
   },
   {
    "duration": 8722985,
    "start_time": "2022-11-24T11:09:06.227Z"
   },
   {
    "duration": 4,
    "start_time": "2022-11-24T13:34:29.214Z"
   },
   {
    "duration": 3,
    "start_time": "2022-11-24T13:34:33.273Z"
   },
   {
    "duration": 3,
    "start_time": "2022-11-24T13:34:35.020Z"
   },
   {
    "duration": 77961,
    "start_time": "2022-11-24T13:34:37.259Z"
   },
   {
    "duration": 6,
    "start_time": "2022-11-24T13:41:05.488Z"
   },
   {
    "duration": 9,
    "start_time": "2022-11-24T13:41:12.378Z"
   },
   {
    "duration": 3701,
    "start_time": "2022-11-24T13:41:57.604Z"
   },
   {
    "duration": 836,
    "start_time": "2022-11-24T13:42:01.307Z"
   },
   {
    "duration": 39,
    "start_time": "2022-11-24T13:42:02.145Z"
   },
   {
    "duration": 27,
    "start_time": "2022-11-24T13:42:02.186Z"
   },
   {
    "duration": 7,
    "start_time": "2022-11-24T13:42:02.215Z"
   },
   {
    "duration": 40,
    "start_time": "2022-11-24T13:42:02.224Z"
   },
   {
    "duration": 70982,
    "start_time": "2022-11-24T13:42:02.265Z"
   },
   {
    "duration": 7,
    "start_time": "2022-11-24T13:43:13.249Z"
   },
   {
    "duration": 219,
    "start_time": "2022-11-24T13:43:13.258Z"
   },
   {
    "duration": 30,
    "start_time": "2022-11-24T13:43:13.480Z"
   },
   {
    "duration": 1950,
    "start_time": "2022-11-24T13:43:13.515Z"
   },
   {
    "duration": 9164,
    "start_time": "2022-11-24T13:43:15.467Z"
   },
   {
    "duration": 3,
    "start_time": "2022-11-24T13:43:24.633Z"
   },
   {
    "duration": 38,
    "start_time": "2022-11-24T14:13:07.345Z"
   },
   {
    "duration": 52,
    "start_time": "2022-11-24T14:13:22.893Z"
   },
   {
    "duration": 7,
    "start_time": "2022-11-24T14:13:42.765Z"
   },
   {
    "duration": 3277,
    "start_time": "2022-11-24T14:13:48.206Z"
   },
   {
    "duration": 2380,
    "start_time": "2022-11-24T14:13:51.485Z"
   },
   {
    "duration": 34,
    "start_time": "2022-11-24T14:13:53.867Z"
   },
   {
    "duration": 12,
    "start_time": "2022-11-24T14:13:53.904Z"
   },
   {
    "duration": 6,
    "start_time": "2022-11-24T14:13:53.918Z"
   },
   {
    "duration": 6,
    "start_time": "2022-11-24T14:13:53.926Z"
   },
   {
    "duration": 81763,
    "start_time": "2022-11-24T14:13:53.933Z"
   },
   {
    "duration": 13,
    "start_time": "2022-11-24T14:15:15.699Z"
   },
   {
    "duration": 218,
    "start_time": "2022-11-24T14:15:15.714Z"
   },
   {
    "duration": 24,
    "start_time": "2022-11-24T14:15:15.934Z"
   },
   {
    "duration": 2022,
    "start_time": "2022-11-24T14:15:15.960Z"
   },
   {
    "duration": 9435,
    "start_time": "2022-11-24T14:15:17.984Z"
   },
   {
    "duration": 3,
    "start_time": "2022-11-24T14:15:27.421Z"
   },
   {
    "duration": 193087,
    "start_time": "2022-11-24T14:15:27.426Z"
   },
   {
    "duration": 3243,
    "start_time": "2022-11-25T08:45:18.187Z"
   },
   {
    "duration": 3350,
    "start_time": "2022-11-25T08:45:21.432Z"
   },
   {
    "duration": 31,
    "start_time": "2022-11-25T08:45:24.784Z"
   },
   {
    "duration": 17,
    "start_time": "2022-11-25T08:45:24.817Z"
   },
   {
    "duration": 32,
    "start_time": "2022-11-25T08:45:24.836Z"
   },
   {
    "duration": 11,
    "start_time": "2022-11-25T08:45:24.870Z"
   },
   {
    "duration": 92919,
    "start_time": "2022-11-25T08:45:24.883Z"
   },
   {
    "duration": 8,
    "start_time": "2022-11-25T08:46:57.804Z"
   },
   {
    "duration": 219,
    "start_time": "2022-11-25T08:46:57.814Z"
   },
   {
    "duration": 82,
    "start_time": "2022-11-25T08:46:58.036Z"
   },
   {
    "duration": 2096,
    "start_time": "2022-11-25T08:46:58.120Z"
   },
   {
    "duration": 10320,
    "start_time": "2022-11-25T08:47:00.219Z"
   },
   {
    "duration": 3,
    "start_time": "2022-11-25T08:47:10.540Z"
   },
   {
    "duration": 115678,
    "start_time": "2022-11-25T08:47:10.551Z"
   },
   {
    "duration": 0,
    "start_time": "2022-11-25T08:49:06.231Z"
   },
   {
    "duration": 0,
    "start_time": "2022-11-25T08:49:06.232Z"
   },
   {
    "duration": 0,
    "start_time": "2022-11-25T08:49:06.233Z"
   },
   {
    "duration": 0,
    "start_time": "2022-11-25T08:49:06.234Z"
   },
   {
    "duration": 3,
    "start_time": "2022-11-25T08:49:14.810Z"
   },
   {
    "duration": 4,
    "start_time": "2022-11-25T08:49:16.408Z"
   },
   {
    "duration": 3154,
    "start_time": "2022-11-25T08:50:15.356Z"
   },
   {
    "duration": 3368,
    "start_time": "2022-11-25T08:50:18.513Z"
   },
   {
    "duration": 31,
    "start_time": "2022-11-25T08:50:21.883Z"
   },
   {
    "duration": 12,
    "start_time": "2022-11-25T08:50:21.917Z"
   },
   {
    "duration": 10,
    "start_time": "2022-11-25T08:50:21.931Z"
   },
   {
    "duration": 9,
    "start_time": "2022-11-25T08:50:21.943Z"
   },
   {
    "duration": 46822,
    "start_time": "2022-11-25T08:50:21.953Z"
   },
   {
    "duration": 0,
    "start_time": "2022-11-25T08:51:08.778Z"
   },
   {
    "duration": 0,
    "start_time": "2022-11-25T08:51:08.780Z"
   },
   {
    "duration": 0,
    "start_time": "2022-11-25T08:51:08.781Z"
   },
   {
    "duration": 0,
    "start_time": "2022-11-25T08:51:08.782Z"
   },
   {
    "duration": 0,
    "start_time": "2022-11-25T08:51:08.784Z"
   },
   {
    "duration": 0,
    "start_time": "2022-11-25T08:51:08.785Z"
   },
   {
    "duration": 0,
    "start_time": "2022-11-25T08:51:08.786Z"
   },
   {
    "duration": 2451,
    "start_time": "2022-11-25T08:51:13.510Z"
   },
   {
    "duration": 2415,
    "start_time": "2022-11-25T08:51:46.276Z"
   },
   {
    "duration": 2512,
    "start_time": "2022-11-25T08:52:08.407Z"
   },
   {
    "duration": 3,
    "start_time": "2022-11-25T08:52:15.888Z"
   },
   {
    "duration": 2780,
    "start_time": "2022-11-25T08:52:59.898Z"
   },
   {
    "duration": 846,
    "start_time": "2022-11-25T08:53:02.680Z"
   },
   {
    "duration": 42,
    "start_time": "2022-11-25T08:53:03.527Z"
   },
   {
    "duration": 15,
    "start_time": "2022-11-25T08:53:03.572Z"
   },
   {
    "duration": 7,
    "start_time": "2022-11-25T08:53:03.590Z"
   },
   {
    "duration": 11,
    "start_time": "2022-11-25T08:53:03.599Z"
   },
   {
    "duration": 69325,
    "start_time": "2022-11-25T08:53:03.612Z"
   },
   {
    "duration": 13,
    "start_time": "2022-11-25T08:54:12.939Z"
   },
   {
    "duration": 185,
    "start_time": "2022-11-25T08:54:12.954Z"
   },
   {
    "duration": 104,
    "start_time": "2022-11-25T08:54:13.140Z"
   },
   {
    "duration": 2010,
    "start_time": "2022-11-25T08:54:13.246Z"
   },
   {
    "duration": 9604,
    "start_time": "2022-11-25T08:54:15.258Z"
   },
   {
    "duration": 3,
    "start_time": "2022-11-25T08:54:24.864Z"
   },
   {
    "duration": 148552,
    "start_time": "2022-11-25T08:54:24.869Z"
   },
   {
    "duration": 0,
    "start_time": "2022-11-25T08:56:53.425Z"
   },
   {
    "duration": 816,
    "start_time": "2022-11-25T08:57:02.395Z"
   },
   {
    "duration": 809,
    "start_time": "2022-11-25T08:57:17.781Z"
   },
   {
    "duration": 21,
    "start_time": "2022-11-25T08:57:52.887Z"
   },
   {
    "duration": 56,
    "start_time": "2022-11-25T08:58:00.237Z"
   },
   {
    "duration": 54,
    "start_time": "2022-11-25T08:58:17.575Z"
   },
   {
    "duration": 3991,
    "start_time": "2022-11-25T08:58:27.359Z"
   },
   {
    "duration": 3563,
    "start_time": "2022-11-25T08:58:31.353Z"
   },
   {
    "duration": 41,
    "start_time": "2022-11-25T08:58:34.917Z"
   },
   {
    "duration": 29,
    "start_time": "2022-11-25T08:58:34.961Z"
   },
   {
    "duration": 22,
    "start_time": "2022-11-25T08:58:34.993Z"
   },
   {
    "duration": 21,
    "start_time": "2022-11-25T08:58:35.017Z"
   },
   {
    "duration": 24321,
    "start_time": "2022-11-25T08:58:35.040Z"
   },
   {
    "duration": 0,
    "start_time": "2022-11-25T08:58:59.363Z"
   },
   {
    "duration": 0,
    "start_time": "2022-11-25T08:58:59.364Z"
   },
   {
    "duration": 0,
    "start_time": "2022-11-25T08:58:59.365Z"
   },
   {
    "duration": 0,
    "start_time": "2022-11-25T08:58:59.366Z"
   },
   {
    "duration": 0,
    "start_time": "2022-11-25T08:58:59.367Z"
   },
   {
    "duration": 0,
    "start_time": "2022-11-25T08:58:59.368Z"
   },
   {
    "duration": 0,
    "start_time": "2022-11-25T08:58:59.369Z"
   },
   {
    "duration": 0,
    "start_time": "2022-11-25T08:58:59.370Z"
   },
   {
    "duration": 806,
    "start_time": "2022-11-25T08:59:01.702Z"
   },
   {
    "duration": 843,
    "start_time": "2022-11-25T08:59:37.389Z"
   },
   {
    "duration": 13415,
    "start_time": "2022-11-25T09:06:43.925Z"
   },
   {
    "duration": 2050,
    "start_time": "2022-11-25T09:07:05.484Z"
   },
   {
    "duration": 265,
    "start_time": "2022-11-25T09:08:45.242Z"
   },
   {
    "duration": 10165,
    "start_time": "2022-11-25T09:09:06.956Z"
   },
   {
    "duration": 4,
    "start_time": "2022-11-25T09:10:00.325Z"
   },
   {
    "duration": 83,
    "start_time": "2022-11-25T09:10:03.414Z"
   },
   {
    "duration": 4,
    "start_time": "2022-11-25T09:11:38.066Z"
   },
   {
    "duration": 5,
    "start_time": "2022-11-25T11:15:20.047Z"
   },
   {
    "duration": 5255,
    "start_time": "2022-11-25T11:15:28.722Z"
   },
   {
    "duration": 849,
    "start_time": "2022-11-25T11:15:33.979Z"
   },
   {
    "duration": 40,
    "start_time": "2022-11-25T11:15:34.829Z"
   },
   {
    "duration": 10,
    "start_time": "2022-11-25T11:15:34.871Z"
   },
   {
    "duration": 6,
    "start_time": "2022-11-25T11:15:34.883Z"
   },
   {
    "duration": 278,
    "start_time": "2022-11-25T11:15:34.890Z"
   },
   {
    "duration": 2773,
    "start_time": "2022-11-25T11:15:35.170Z"
   },
   {
    "duration": 0,
    "start_time": "2022-11-25T11:15:37.944Z"
   },
   {
    "duration": 0,
    "start_time": "2022-11-25T11:15:37.946Z"
   },
   {
    "duration": 0,
    "start_time": "2022-11-25T11:15:37.947Z"
   },
   {
    "duration": 0,
    "start_time": "2022-11-25T11:15:37.949Z"
   },
   {
    "duration": 0,
    "start_time": "2022-11-25T11:15:37.951Z"
   },
   {
    "duration": 0,
    "start_time": "2022-11-25T11:15:37.953Z"
   },
   {
    "duration": 0,
    "start_time": "2022-11-25T11:15:37.954Z"
   },
   {
    "duration": 0,
    "start_time": "2022-11-25T11:15:37.956Z"
   },
   {
    "duration": 72,
    "start_time": "2022-11-25T11:16:49.384Z"
   },
   {
    "duration": 80,
    "start_time": "2022-11-25T11:17:06.999Z"
   },
   {
    "duration": 70,
    "start_time": "2022-11-25T11:17:12.867Z"
   },
   {
    "duration": 69,
    "start_time": "2022-11-25T11:17:16.065Z"
   },
   {
    "duration": 681,
    "start_time": "2022-11-25T11:17:54.112Z"
   },
   {
    "duration": 5377,
    "start_time": "2022-11-25T11:20:27.331Z"
   },
   {
    "duration": 837,
    "start_time": "2022-11-25T11:20:32.710Z"
   },
   {
    "duration": 35,
    "start_time": "2022-11-25T11:20:33.550Z"
   },
   {
    "duration": 11,
    "start_time": "2022-11-25T11:20:33.587Z"
   },
   {
    "duration": 9,
    "start_time": "2022-11-25T11:20:33.601Z"
   },
   {
    "duration": 527,
    "start_time": "2022-11-25T11:20:33.611Z"
   },
   {
    "duration": 345787,
    "start_time": "2022-11-25T11:20:34.140Z"
   },
   {
    "duration": 0,
    "start_time": "2022-11-25T11:26:19.929Z"
   },
   {
    "duration": 0,
    "start_time": "2022-11-25T11:26:19.930Z"
   },
   {
    "duration": 0,
    "start_time": "2022-11-25T11:26:19.932Z"
   },
   {
    "duration": 0,
    "start_time": "2022-11-25T11:26:19.933Z"
   },
   {
    "duration": 0,
    "start_time": "2022-11-25T11:26:19.934Z"
   },
   {
    "duration": 0,
    "start_time": "2022-11-25T11:26:19.935Z"
   },
   {
    "duration": 0,
    "start_time": "2022-11-25T11:26:19.936Z"
   },
   {
    "duration": 5,
    "start_time": "2022-11-25T11:26:37.406Z"
   },
   {
    "duration": 448,
    "start_time": "2022-11-25T11:27:36.651Z"
   },
   {
    "duration": 477,
    "start_time": "2022-11-25T11:27:54.533Z"
   },
   {
    "duration": 475,
    "start_time": "2022-11-25T11:29:04.303Z"
   },
   {
    "duration": 5255,
    "start_time": "2022-11-25T11:30:11.150Z"
   },
   {
    "duration": 913,
    "start_time": "2022-11-25T11:30:16.408Z"
   },
   {
    "duration": 43,
    "start_time": "2022-11-25T11:30:17.325Z"
   },
   {
    "duration": 16,
    "start_time": "2022-11-25T11:30:17.371Z"
   },
   {
    "duration": 6,
    "start_time": "2022-11-25T11:30:17.389Z"
   },
   {
    "duration": 652,
    "start_time": "2022-11-25T11:30:17.396Z"
   },
   {
    "duration": 1019910,
    "start_time": "2022-11-25T11:30:18.050Z"
   },
   {
    "duration": 9,
    "start_time": "2022-11-25T11:47:17.962Z"
   },
   {
    "duration": 251,
    "start_time": "2022-11-25T11:47:17.972Z"
   },
   {
    "duration": 90,
    "start_time": "2022-11-25T11:47:18.225Z"
   },
   {
    "duration": 2135,
    "start_time": "2022-11-25T11:47:18.316Z"
   },
   {
    "duration": 9439,
    "start_time": "2022-11-25T11:47:20.453Z"
   },
   {
    "duration": 4,
    "start_time": "2022-11-25T11:47:29.895Z"
   },
   {
    "duration": 230070,
    "start_time": "2022-11-25T11:47:29.901Z"
   },
   {
    "duration": 53,
    "start_time": "2022-11-25T12:14:42.665Z"
   },
   {
    "duration": 6251,
    "start_time": "2022-11-25T12:14:52.525Z"
   },
   {
    "duration": 3499,
    "start_time": "2022-11-25T12:14:58.778Z"
   },
   {
    "duration": 33,
    "start_time": "2022-11-25T12:15:02.279Z"
   },
   {
    "duration": 28,
    "start_time": "2022-11-25T12:15:02.314Z"
   },
   {
    "duration": 30,
    "start_time": "2022-11-25T12:15:02.345Z"
   },
   {
    "duration": 737,
    "start_time": "2022-11-25T12:15:02.377Z"
   },
   {
    "duration": 1031886,
    "start_time": "2022-11-25T12:15:03.115Z"
   },
   {
    "duration": 9,
    "start_time": "2022-11-25T12:32:15.003Z"
   },
   {
    "duration": 194,
    "start_time": "2022-11-25T12:32:15.013Z"
   },
   {
    "duration": 339,
    "start_time": "2022-11-25T12:32:15.208Z"
   },
   {
    "duration": 0,
    "start_time": "2022-11-25T12:32:15.551Z"
   },
   {
    "duration": 0,
    "start_time": "2022-11-25T12:32:15.552Z"
   },
   {
    "duration": 0,
    "start_time": "2022-11-25T12:32:15.553Z"
   },
   {
    "duration": 0,
    "start_time": "2022-11-25T12:32:15.555Z"
   },
   {
    "duration": 89,
    "start_time": "2022-11-25T12:32:31.782Z"
   },
   {
    "duration": 2016,
    "start_time": "2022-11-25T12:32:33.354Z"
   },
   {
    "duration": 9416,
    "start_time": "2022-11-25T12:32:38.589Z"
   },
   {
    "duration": 3,
    "start_time": "2022-11-25T12:32:48.007Z"
   },
   {
    "duration": 31,
    "start_time": "2022-11-25T12:39:45.226Z"
   },
   {
    "duration": 28,
    "start_time": "2022-11-25T12:39:51.077Z"
   },
   {
    "duration": 6584,
    "start_time": "2022-11-25T12:40:15.530Z"
   },
   {
    "duration": 3439,
    "start_time": "2022-11-25T12:40:22.115Z"
   },
   {
    "duration": 33,
    "start_time": "2022-11-25T12:40:25.556Z"
   },
   {
    "duration": 17,
    "start_time": "2022-11-25T12:40:25.591Z"
   },
   {
    "duration": 97491,
    "start_time": "2022-11-25T12:40:25.610Z"
   },
   {
    "duration": 0,
    "start_time": "2022-11-25T12:42:03.103Z"
   },
   {
    "duration": 0,
    "start_time": "2022-11-25T12:42:03.104Z"
   },
   {
    "duration": 0,
    "start_time": "2022-11-25T12:42:03.105Z"
   },
   {
    "duration": 0,
    "start_time": "2022-11-25T12:42:03.106Z"
   },
   {
    "duration": 0,
    "start_time": "2022-11-25T12:42:03.108Z"
   },
   {
    "duration": 0,
    "start_time": "2022-11-25T12:42:03.109Z"
   },
   {
    "duration": 0,
    "start_time": "2022-11-25T12:42:03.110Z"
   },
   {
    "duration": 0,
    "start_time": "2022-11-25T12:42:03.111Z"
   },
   {
    "duration": 0,
    "start_time": "2022-11-25T12:42:03.112Z"
   },
   {
    "duration": 0,
    "start_time": "2022-11-25T12:42:03.113Z"
   },
   {
    "duration": 3269,
    "start_time": "2022-11-25T12:42:40.791Z"
   },
   {
    "duration": 4981,
    "start_time": "2022-11-25T12:44:33.432Z"
   },
   {
    "duration": 876,
    "start_time": "2022-11-25T12:44:38.415Z"
   },
   {
    "duration": 34,
    "start_time": "2022-11-25T12:44:39.292Z"
   },
   {
    "duration": 25,
    "start_time": "2022-11-25T12:44:39.327Z"
   },
   {
    "duration": 4,
    "start_time": "2022-11-25T12:44:39.354Z"
   },
   {
    "duration": 797,
    "start_time": "2022-11-25T12:44:39.359Z"
   },
   {
    "duration": 1029064,
    "start_time": "2022-11-25T12:44:40.158Z"
   },
   {
    "duration": 10,
    "start_time": "2022-11-25T13:01:49.225Z"
   },
   {
    "duration": 184,
    "start_time": "2022-11-25T13:01:49.237Z"
   },
   {
    "duration": 101,
    "start_time": "2022-11-25T13:01:49.424Z"
   },
   {
    "duration": 2105,
    "start_time": "2022-11-25T13:01:49.528Z"
   },
   {
    "duration": 9676,
    "start_time": "2022-11-25T13:01:51.635Z"
   },
   {
    "duration": 4,
    "start_time": "2022-11-25T13:02:01.313Z"
   },
   {
    "duration": 6000,
    "start_time": "2022-11-25T13:08:42.932Z"
   },
   {
    "duration": 3643,
    "start_time": "2022-11-25T13:08:48.934Z"
   },
   {
    "duration": 37,
    "start_time": "2022-11-25T13:08:52.579Z"
   },
   {
    "duration": 18,
    "start_time": "2022-11-25T13:08:52.619Z"
   },
   {
    "duration": 11,
    "start_time": "2022-11-25T13:08:52.640Z"
   },
   {
    "duration": 708,
    "start_time": "2022-11-25T13:08:52.653Z"
   },
   {
    "duration": 1007251,
    "start_time": "2022-11-25T13:08:53.362Z"
   },
   {
    "duration": 9,
    "start_time": "2022-11-25T13:25:40.615Z"
   },
   {
    "duration": 159,
    "start_time": "2022-11-25T13:25:40.626Z"
   },
   {
    "duration": 94,
    "start_time": "2022-11-25T13:25:40.787Z"
   },
   {
    "duration": 2042,
    "start_time": "2022-11-25T13:25:40.883Z"
   },
   {
    "duration": 10014,
    "start_time": "2022-11-25T13:25:42.927Z"
   },
   {
    "duration": 7,
    "start_time": "2022-11-25T13:25:52.943Z"
   },
   {
    "duration": 6144,
    "start_time": "2022-11-25T13:33:53.923Z"
   },
   {
    "duration": 3405,
    "start_time": "2022-11-25T13:34:00.069Z"
   },
   {
    "duration": 32,
    "start_time": "2022-11-25T13:34:03.476Z"
   },
   {
    "duration": 11,
    "start_time": "2022-11-25T13:34:03.510Z"
   },
   {
    "duration": 5,
    "start_time": "2022-11-25T13:34:03.523Z"
   },
   {
    "duration": 639,
    "start_time": "2022-11-25T13:34:03.529Z"
   },
   {
    "duration": 1029371,
    "start_time": "2022-11-25T13:34:04.169Z"
   },
   {
    "duration": 11,
    "start_time": "2022-11-25T13:51:13.542Z"
   },
   {
    "duration": 238,
    "start_time": "2022-11-25T13:51:13.555Z"
   },
   {
    "duration": 89,
    "start_time": "2022-11-25T13:51:13.795Z"
   },
   {
    "duration": 2025,
    "start_time": "2022-11-25T13:51:13.886Z"
   },
   {
    "duration": 9860,
    "start_time": "2022-11-25T13:51:15.913Z"
   },
   {
    "duration": 3,
    "start_time": "2022-11-25T13:51:25.775Z"
   },
   {
    "duration": 6252,
    "start_time": "2022-11-25T13:54:44.052Z"
   },
   {
    "duration": 6,
    "start_time": "2022-11-25T13:54:50.306Z"
   },
   {
    "duration": 3367,
    "start_time": "2022-11-25T13:54:50.313Z"
   },
   {
    "duration": 33,
    "start_time": "2022-11-25T13:54:53.683Z"
   },
   {
    "duration": 10,
    "start_time": "2022-11-25T13:54:53.718Z"
   },
   {
    "duration": 5,
    "start_time": "2022-11-25T13:54:53.730Z"
   },
   {
    "duration": 694,
    "start_time": "2022-11-25T13:54:53.737Z"
   },
   {
    "duration": 1043751,
    "start_time": "2022-11-25T13:54:54.432Z"
   },
   {
    "duration": 9,
    "start_time": "2022-11-25T14:12:18.185Z"
   },
   {
    "duration": 165,
    "start_time": "2022-11-25T14:12:18.197Z"
   },
   {
    "duration": 89,
    "start_time": "2022-11-25T14:12:18.364Z"
   },
   {
    "duration": 2177,
    "start_time": "2022-11-25T14:12:18.454Z"
   },
   {
    "duration": 9802,
    "start_time": "2022-11-25T14:12:20.633Z"
   },
   {
    "duration": 4,
    "start_time": "2022-11-25T14:12:30.437Z"
   },
   {
    "duration": 19,
    "start_time": "2022-11-25T14:12:30.442Z"
   },
   {
    "duration": 4,
    "start_time": "2022-11-25T14:13:38.454Z"
   },
   {
    "duration": 4,
    "start_time": "2022-11-25T14:13:56.781Z"
   },
   {
    "duration": 2,
    "start_time": "2022-11-25T14:14:06.248Z"
   },
   {
    "duration": 48893,
    "start_time": "2022-11-25T14:14:24.759Z"
   },
   {
    "duration": 49308,
    "start_time": "2022-11-25T14:15:38.644Z"
   },
   {
    "duration": 6855,
    "start_time": "2022-11-25T14:24:52.937Z"
   },
   {
    "duration": 8,
    "start_time": "2022-11-25T14:24:59.795Z"
   },
   {
    "duration": 3512,
    "start_time": "2022-11-25T14:24:59.805Z"
   },
   {
    "duration": 32,
    "start_time": "2022-11-25T14:25:03.319Z"
   },
   {
    "duration": 11,
    "start_time": "2022-11-25T14:25:03.353Z"
   },
   {
    "duration": 6,
    "start_time": "2022-11-25T14:25:03.365Z"
   },
   {
    "duration": 685,
    "start_time": "2022-11-25T14:25:03.373Z"
   },
   {
    "duration": 1031350,
    "start_time": "2022-11-25T14:25:04.059Z"
   },
   {
    "duration": 7,
    "start_time": "2022-11-25T14:42:15.411Z"
   },
   {
    "duration": 221,
    "start_time": "2022-11-25T14:42:15.421Z"
   },
   {
    "duration": 96,
    "start_time": "2022-11-25T14:42:15.644Z"
   },
   {
    "duration": 2074,
    "start_time": "2022-11-25T14:42:15.742Z"
   },
   {
    "duration": 9704,
    "start_time": "2022-11-25T14:42:17.817Z"
   },
   {
    "duration": 3,
    "start_time": "2022-11-25T14:42:27.523Z"
   },
   {
    "duration": 59,
    "start_time": "2022-11-25T16:37:23.345Z"
   },
   {
    "duration": 5,
    "start_time": "2022-11-25T16:37:29.129Z"
   },
   {
    "duration": 6359,
    "start_time": "2022-11-25T16:38:41.067Z"
   },
   {
    "duration": 3,
    "start_time": "2022-11-25T16:38:47.428Z"
   },
   {
    "duration": 3262,
    "start_time": "2022-11-25T16:38:47.432Z"
   },
   {
    "duration": 34,
    "start_time": "2022-11-25T16:38:50.696Z"
   },
   {
    "duration": 11,
    "start_time": "2022-11-25T16:38:50.732Z"
   },
   {
    "duration": 8,
    "start_time": "2022-11-25T16:38:50.745Z"
   },
   {
    "duration": 683,
    "start_time": "2022-11-25T16:38:50.755Z"
   },
   {
    "duration": 1069017,
    "start_time": "2022-11-25T16:38:51.440Z"
   },
   {
    "duration": 10,
    "start_time": "2022-11-25T16:56:40.459Z"
   },
   {
    "duration": 198,
    "start_time": "2022-11-25T16:56:40.471Z"
   },
   {
    "duration": 120,
    "start_time": "2022-11-25T16:56:40.671Z"
   },
   {
    "duration": 2312,
    "start_time": "2022-11-25T16:56:40.794Z"
   },
   {
    "duration": 10018,
    "start_time": "2022-11-25T16:56:43.108Z"
   },
   {
    "duration": 3,
    "start_time": "2022-11-25T16:56:53.129Z"
   },
   {
    "duration": 7555,
    "start_time": "2022-11-25T18:30:33.387Z"
   },
   {
    "duration": 4925,
    "start_time": "2022-11-26T09:30:03.956Z"
   },
   {
    "duration": 2,
    "start_time": "2022-11-26T09:30:08.883Z"
   },
   {
    "duration": 2271,
    "start_time": "2022-11-26T09:30:08.886Z"
   },
   {
    "duration": 26,
    "start_time": "2022-11-26T09:30:11.159Z"
   },
   {
    "duration": 9,
    "start_time": "2022-11-26T09:30:11.187Z"
   },
   {
    "duration": 14,
    "start_time": "2022-11-26T09:30:11.197Z"
   },
   {
    "duration": 618,
    "start_time": "2022-11-26T09:30:11.212Z"
   },
   {
    "duration": 884021,
    "start_time": "2022-11-26T09:30:11.831Z"
   },
   {
    "duration": 8,
    "start_time": "2022-11-26T09:44:55.854Z"
   },
   {
    "duration": 162,
    "start_time": "2022-11-26T09:44:55.865Z"
   },
   {
    "duration": 92,
    "start_time": "2022-11-26T09:44:56.029Z"
   },
   {
    "duration": 2019,
    "start_time": "2022-11-26T09:44:56.122Z"
   },
   {
    "duration": 9085,
    "start_time": "2022-11-26T09:44:58.143Z"
   },
   {
    "duration": 3,
    "start_time": "2022-11-26T09:45:07.229Z"
   },
   {
    "duration": 745141,
    "start_time": "2022-11-26T09:45:07.233Z"
   },
   {
    "duration": 162,
    "start_time": "2022-11-26T10:01:05.660Z"
   },
   {
    "duration": 5221,
    "start_time": "2022-11-26T10:01:14.299Z"
   },
   {
    "duration": 2,
    "start_time": "2022-11-26T10:01:19.522Z"
   },
   {
    "duration": 2558,
    "start_time": "2022-11-26T10:01:19.525Z"
   },
   {
    "duration": 32,
    "start_time": "2022-11-26T10:01:22.085Z"
   },
   {
    "duration": 9,
    "start_time": "2022-11-26T10:01:22.118Z"
   },
   {
    "duration": 5,
    "start_time": "2022-11-26T10:01:22.129Z"
   },
   {
    "duration": 678,
    "start_time": "2022-11-26T10:01:22.136Z"
   },
   {
    "duration": 881403,
    "start_time": "2022-11-26T10:01:22.815Z"
   },
   {
    "duration": 8,
    "start_time": "2022-11-26T10:16:04.220Z"
   },
   {
    "duration": 172,
    "start_time": "2022-11-26T10:16:04.230Z"
   },
   {
    "duration": 79,
    "start_time": "2022-11-26T10:16:04.403Z"
   },
   {
    "duration": 1996,
    "start_time": "2022-11-26T10:16:04.484Z"
   },
   {
    "duration": 8412,
    "start_time": "2022-11-26T10:16:06.481Z"
   },
   {
    "duration": 4,
    "start_time": "2022-11-26T10:16:14.897Z"
   },
   {
    "duration": 970056,
    "start_time": "2022-11-26T10:16:14.902Z"
   },
   {
    "duration": 4956,
    "start_time": "2022-11-26T10:37:00.982Z"
   },
   {
    "duration": 2,
    "start_time": "2022-11-26T10:37:05.941Z"
   },
   {
    "duration": 2237,
    "start_time": "2022-11-26T10:37:05.945Z"
   },
   {
    "duration": 29,
    "start_time": "2022-11-26T10:37:08.184Z"
   },
   {
    "duration": 39,
    "start_time": "2022-11-26T10:37:08.215Z"
   },
   {
    "duration": 29,
    "start_time": "2022-11-26T10:37:08.255Z"
   },
   {
    "duration": 635,
    "start_time": "2022-11-26T10:37:08.285Z"
   },
   {
    "duration": 842804,
    "start_time": "2022-11-26T10:37:08.921Z"
   },
   {
    "duration": 7,
    "start_time": "2022-11-26T10:51:11.726Z"
   },
   {
    "duration": 207,
    "start_time": "2022-11-26T10:51:11.734Z"
   },
   {
    "duration": 78,
    "start_time": "2022-11-26T10:51:11.943Z"
   },
   {
    "duration": 1907,
    "start_time": "2022-11-26T10:51:12.023Z"
   },
   {
    "duration": 8236,
    "start_time": "2022-11-26T10:51:13.931Z"
   },
   {
    "duration": 3,
    "start_time": "2022-11-26T10:51:22.169Z"
   },
   {
    "duration": 1168429,
    "start_time": "2022-11-26T10:51:22.173Z"
   },
   {
    "duration": 4788,
    "start_time": "2022-11-26T11:26:45.283Z"
   },
   {
    "duration": 3,
    "start_time": "2022-11-26T11:26:50.073Z"
   },
   {
    "duration": 2293,
    "start_time": "2022-11-26T11:26:50.078Z"
   },
   {
    "duration": 31,
    "start_time": "2022-11-26T11:26:52.374Z"
   },
   {
    "duration": 17,
    "start_time": "2022-11-26T11:26:52.407Z"
   },
   {
    "duration": 17,
    "start_time": "2022-11-26T11:26:52.426Z"
   },
   {
    "duration": 634,
    "start_time": "2022-11-26T11:26:52.445Z"
   },
   {
    "duration": 866658,
    "start_time": "2022-11-26T11:26:53.080Z"
   },
   {
    "duration": 7,
    "start_time": "2022-11-26T11:41:19.740Z"
   },
   {
    "duration": 138,
    "start_time": "2022-11-26T11:41:19.750Z"
   },
   {
    "duration": 77,
    "start_time": "2022-11-26T11:41:19.889Z"
   },
   {
    "duration": 1939,
    "start_time": "2022-11-26T11:41:19.968Z"
   },
   {
    "duration": 8359,
    "start_time": "2022-11-26T11:41:21.909Z"
   },
   {
    "duration": 3,
    "start_time": "2022-11-26T11:41:30.270Z"
   },
   {
    "duration": 1421030,
    "start_time": "2022-11-26T11:41:30.274Z"
   },
   {
    "duration": 5060,
    "start_time": "2022-11-26T12:12:46.553Z"
   },
   {
    "duration": 3,
    "start_time": "2022-11-26T12:12:51.615Z"
   },
   {
    "duration": 2299,
    "start_time": "2022-11-26T12:12:51.619Z"
   },
   {
    "duration": 32,
    "start_time": "2022-11-26T12:12:53.919Z"
   },
   {
    "duration": 29,
    "start_time": "2022-11-26T12:12:53.953Z"
   },
   {
    "duration": 25,
    "start_time": "2022-11-26T12:12:53.984Z"
   },
   {
    "duration": 613,
    "start_time": "2022-11-26T12:12:54.010Z"
   },
   {
    "duration": 880565,
    "start_time": "2022-11-26T12:12:54.625Z"
   },
   {
    "duration": 17,
    "start_time": "2022-11-26T12:27:35.192Z"
   },
   {
    "duration": 168,
    "start_time": "2022-11-26T12:27:35.211Z"
   },
   {
    "duration": 81,
    "start_time": "2022-11-26T12:27:35.381Z"
   },
   {
    "duration": 2001,
    "start_time": "2022-11-26T12:27:35.463Z"
   },
   {
    "duration": 9061,
    "start_time": "2022-11-26T12:27:37.466Z"
   },
   {
    "duration": 3,
    "start_time": "2022-11-26T12:27:46.529Z"
   },
   {
    "duration": 141840,
    "start_time": "2022-11-26T12:27:46.534Z"
   },
   {
    "duration": 5674,
    "start_time": "2022-11-26T12:30:42.749Z"
   },
   {
    "duration": 2,
    "start_time": "2022-11-26T12:30:48.425Z"
   },
   {
    "duration": 2604,
    "start_time": "2022-11-26T12:30:48.429Z"
   },
   {
    "duration": 30,
    "start_time": "2022-11-26T12:30:51.035Z"
   },
   {
    "duration": 24,
    "start_time": "2022-11-26T12:30:51.066Z"
   },
   {
    "duration": 37,
    "start_time": "2022-11-26T12:30:51.092Z"
   },
   {
    "duration": 697,
    "start_time": "2022-11-26T12:30:51.131Z"
   },
   {
    "duration": 865900,
    "start_time": "2022-11-26T12:30:51.829Z"
   },
   {
    "duration": 8,
    "start_time": "2022-11-26T12:45:17.730Z"
   },
   {
    "duration": 162,
    "start_time": "2022-11-26T12:45:17.740Z"
   },
   {
    "duration": 76,
    "start_time": "2022-11-26T12:45:17.904Z"
   },
   {
    "duration": 1945,
    "start_time": "2022-11-26T12:45:17.982Z"
   },
   {
    "duration": 8136,
    "start_time": "2022-11-26T12:45:19.929Z"
   },
   {
    "duration": 3,
    "start_time": "2022-11-26T12:45:28.066Z"
   },
   {
    "duration": 5,
    "start_time": "2022-11-26T12:45:28.071Z"
   },
   {
    "duration": 4950,
    "start_time": "2022-11-26T12:46:20.495Z"
   },
   {
    "duration": 2,
    "start_time": "2022-11-26T12:46:25.447Z"
   },
   {
    "duration": 2273,
    "start_time": "2022-11-26T12:46:25.451Z"
   },
   {
    "duration": 27,
    "start_time": "2022-11-26T12:46:27.726Z"
   },
   {
    "duration": 10,
    "start_time": "2022-11-26T12:46:27.755Z"
   },
   {
    "duration": 5,
    "start_time": "2022-11-26T12:46:27.766Z"
   },
   {
    "duration": 610,
    "start_time": "2022-11-26T12:46:27.773Z"
   },
   {
    "duration": 847373,
    "start_time": "2022-11-26T12:46:28.384Z"
   },
   {
    "duration": 8,
    "start_time": "2022-11-26T13:00:35.759Z"
   },
   {
    "duration": 226,
    "start_time": "2022-11-26T13:00:35.769Z"
   },
   {
    "duration": 80,
    "start_time": "2022-11-26T13:00:35.997Z"
   },
   {
    "duration": 1975,
    "start_time": "2022-11-26T13:00:36.079Z"
   },
   {
    "duration": 8785,
    "start_time": "2022-11-26T13:00:38.056Z"
   },
   {
    "duration": 2,
    "start_time": "2022-11-26T13:00:46.843Z"
   },
   {
    "duration": 6,
    "start_time": "2022-11-26T13:00:46.847Z"
   },
   {
    "duration": 5064,
    "start_time": "2022-11-26T13:10:37.203Z"
   },
   {
    "duration": 2,
    "start_time": "2022-11-26T13:10:42.269Z"
   },
   {
    "duration": 2274,
    "start_time": "2022-11-26T13:10:42.272Z"
   },
   {
    "duration": 33,
    "start_time": "2022-11-26T13:10:44.549Z"
   },
   {
    "duration": 19,
    "start_time": "2022-11-26T13:10:44.584Z"
   },
   {
    "duration": 8,
    "start_time": "2022-11-26T13:10:44.605Z"
   },
   {
    "duration": 624,
    "start_time": "2022-11-26T13:10:44.615Z"
   },
   {
    "duration": 865383,
    "start_time": "2022-11-26T13:10:45.241Z"
   },
   {
    "duration": 7,
    "start_time": "2022-11-26T13:25:10.626Z"
   },
   {
    "duration": 224,
    "start_time": "2022-11-26T13:25:10.635Z"
   },
   {
    "duration": 80,
    "start_time": "2022-11-26T13:25:10.860Z"
   },
   {
    "duration": 1920,
    "start_time": "2022-11-26T13:25:10.942Z"
   },
   {
    "duration": 8920,
    "start_time": "2022-11-26T13:25:12.864Z"
   },
   {
    "duration": 11,
    "start_time": "2022-11-26T13:25:21.786Z"
   },
   {
    "duration": 2,
    "start_time": "2022-11-26T13:25:21.799Z"
   },
   {
    "duration": 5183,
    "start_time": "2022-11-26T13:29:26.126Z"
   },
   {
    "duration": 2,
    "start_time": "2022-11-26T13:29:31.311Z"
   },
   {
    "duration": 2243,
    "start_time": "2022-11-26T13:29:31.315Z"
   },
   {
    "duration": 26,
    "start_time": "2022-11-26T13:29:33.561Z"
   },
   {
    "duration": 16,
    "start_time": "2022-11-26T13:29:33.588Z"
   },
   {
    "duration": 25,
    "start_time": "2022-11-26T13:29:33.605Z"
   },
   {
    "duration": 634,
    "start_time": "2022-11-26T13:29:33.631Z"
   },
   {
    "duration": 873543,
    "start_time": "2022-11-26T13:29:34.267Z"
   },
   {
    "duration": 7,
    "start_time": "2022-11-26T13:44:07.812Z"
   },
   {
    "duration": 205,
    "start_time": "2022-11-26T13:44:07.821Z"
   },
   {
    "duration": 75,
    "start_time": "2022-11-26T13:44:08.028Z"
   },
   {
    "duration": 1935,
    "start_time": "2022-11-26T13:44:08.105Z"
   },
   {
    "duration": 8412,
    "start_time": "2022-11-26T13:44:10.042Z"
   },
   {
    "duration": 3,
    "start_time": "2022-11-26T13:44:18.455Z"
   },
   {
    "duration": 25,
    "start_time": "2022-11-26T13:44:18.460Z"
   },
   {
    "duration": 5005,
    "start_time": "2022-11-26T13:45:08.770Z"
   },
   {
    "duration": 2,
    "start_time": "2022-11-26T13:45:13.777Z"
   },
   {
    "duration": 2421,
    "start_time": "2022-11-26T13:45:13.780Z"
   },
   {
    "duration": 38,
    "start_time": "2022-11-26T13:45:16.203Z"
   },
   {
    "duration": 12,
    "start_time": "2022-11-26T13:45:16.243Z"
   },
   {
    "duration": 7,
    "start_time": "2022-11-26T13:45:16.257Z"
   },
   {
    "duration": 669,
    "start_time": "2022-11-26T13:45:16.266Z"
   },
   {
    "duration": 860076,
    "start_time": "2022-11-26T13:45:16.937Z"
   },
   {
    "duration": 6,
    "start_time": "2022-11-26T13:59:37.015Z"
   },
   {
    "duration": 205,
    "start_time": "2022-11-26T13:59:37.024Z"
   },
   {
    "duration": 81,
    "start_time": "2022-11-26T13:59:37.230Z"
   },
   {
    "duration": 1912,
    "start_time": "2022-11-26T13:59:37.312Z"
   },
   {
    "duration": 8229,
    "start_time": "2022-11-26T13:59:39.225Z"
   },
   {
    "duration": 3,
    "start_time": "2022-11-26T13:59:47.456Z"
   },
   {
    "duration": 8,
    "start_time": "2022-11-26T13:59:47.460Z"
   },
   {
    "duration": 4789,
    "start_time": "2022-11-26T14:03:13.732Z"
   },
   {
    "duration": 3,
    "start_time": "2022-11-26T14:03:18.523Z"
   },
   {
    "duration": 2290,
    "start_time": "2022-11-26T14:03:18.528Z"
   },
   {
    "duration": 26,
    "start_time": "2022-11-26T14:03:20.820Z"
   },
   {
    "duration": 9,
    "start_time": "2022-11-26T14:03:20.848Z"
   },
   {
    "duration": 6,
    "start_time": "2022-11-26T14:03:20.859Z"
   },
   {
    "duration": 601,
    "start_time": "2022-11-26T14:03:20.866Z"
   },
   {
    "duration": 848893,
    "start_time": "2022-11-26T14:03:21.469Z"
   },
   {
    "duration": 6,
    "start_time": "2022-11-26T14:17:30.364Z"
   },
   {
    "duration": 217,
    "start_time": "2022-11-26T14:17:30.371Z"
   },
   {
    "duration": 81,
    "start_time": "2022-11-26T14:17:30.589Z"
   },
   {
    "duration": 1898,
    "start_time": "2022-11-26T14:17:30.671Z"
   },
   {
    "duration": 8195,
    "start_time": "2022-11-26T14:17:32.570Z"
   },
   {
    "duration": 2,
    "start_time": "2022-11-26T14:17:40.767Z"
   },
   {
    "duration": 20,
    "start_time": "2022-11-26T14:17:40.770Z"
   },
   {
    "duration": 25,
    "start_time": "2022-11-26T14:17:40.792Z"
   },
   {
    "duration": 44274,
    "start_time": "2022-11-26T14:26:28.857Z"
   },
   {
    "duration": 44961,
    "start_time": "2022-11-26T14:27:36.493Z"
   },
   {
    "duration": 103,
    "start_time": "2022-11-26T15:11:59.602Z"
   },
   {
    "duration": 56,
    "start_time": "2022-11-26T15:12:05.018Z"
   },
   {
    "duration": 5627,
    "start_time": "2022-11-26T15:12:23.508Z"
   },
   {
    "duration": 2,
    "start_time": "2022-11-26T15:12:29.137Z"
   },
   {
    "duration": 2328,
    "start_time": "2022-11-26T15:12:29.140Z"
   },
   {
    "duration": 30,
    "start_time": "2022-11-26T15:12:31.470Z"
   },
   {
    "duration": 10,
    "start_time": "2022-11-26T15:12:31.502Z"
   },
   {
    "duration": 6,
    "start_time": "2022-11-26T15:12:31.514Z"
   },
   {
    "duration": 602,
    "start_time": "2022-11-26T15:12:31.521Z"
   },
   {
    "duration": 854591,
    "start_time": "2022-11-26T15:12:32.125Z"
   },
   {
    "duration": 8,
    "start_time": "2022-11-26T15:26:46.717Z"
   },
   {
    "duration": 135,
    "start_time": "2022-11-26T15:26:46.727Z"
   },
   {
    "duration": 83,
    "start_time": "2022-11-26T15:26:46.863Z"
   },
   {
    "duration": 1956,
    "start_time": "2022-11-26T15:26:46.948Z"
   },
   {
    "duration": 8585,
    "start_time": "2022-11-26T15:26:48.906Z"
   },
   {
    "duration": 5,
    "start_time": "2022-11-26T15:26:57.493Z"
   },
   {
    "duration": 9,
    "start_time": "2022-11-26T15:26:57.499Z"
   },
   {
    "duration": 8,
    "start_time": "2022-11-26T15:26:57.510Z"
   },
   {
    "duration": 44825,
    "start_time": "2022-11-26T15:26:57.520Z"
   },
   {
    "duration": 214453,
    "start_time": "2022-11-26T15:27:42.347Z"
   },
   {
    "duration": 45041,
    "start_time": "2022-11-26T15:51:16.903Z"
   },
   {
    "duration": 5030,
    "start_time": "2022-11-26T15:53:39.487Z"
   },
   {
    "duration": 3,
    "start_time": "2022-11-26T15:53:44.518Z"
   },
   {
    "duration": 2319,
    "start_time": "2022-11-26T15:53:44.522Z"
   },
   {
    "duration": 29,
    "start_time": "2022-11-26T15:53:46.842Z"
   },
   {
    "duration": 10,
    "start_time": "2022-11-26T15:53:46.873Z"
   },
   {
    "duration": 5,
    "start_time": "2022-11-26T15:53:46.885Z"
   },
   {
    "duration": 607,
    "start_time": "2022-11-26T15:53:46.891Z"
   },
   {
    "duration": 850887,
    "start_time": "2022-11-26T15:53:47.500Z"
   },
   {
    "duration": 14,
    "start_time": "2022-11-26T16:07:58.389Z"
   },
   {
    "duration": 205,
    "start_time": "2022-11-26T16:07:58.404Z"
   },
   {
    "duration": 93,
    "start_time": "2022-11-26T16:07:58.611Z"
   },
   {
    "duration": 2010,
    "start_time": "2022-11-26T16:07:58.706Z"
   },
   {
    "duration": 4829,
    "start_time": "2022-11-26T16:10:05.719Z"
   },
   {
    "duration": 3,
    "start_time": "2022-11-26T16:10:10.550Z"
   },
   {
    "duration": 2296,
    "start_time": "2022-11-26T16:10:10.554Z"
   },
   {
    "duration": 28,
    "start_time": "2022-11-26T16:10:12.852Z"
   },
   {
    "duration": 9,
    "start_time": "2022-11-26T16:10:12.882Z"
   },
   {
    "duration": 5,
    "start_time": "2022-11-26T16:10:12.892Z"
   },
   {
    "duration": 611,
    "start_time": "2022-11-26T16:10:12.898Z"
   },
   {
    "duration": 838597,
    "start_time": "2022-11-26T16:10:13.510Z"
   },
   {
    "duration": 7,
    "start_time": "2022-11-26T16:24:12.109Z"
   },
   {
    "duration": 213,
    "start_time": "2022-11-26T16:24:12.118Z"
   },
   {
    "duration": 81,
    "start_time": "2022-11-26T16:24:12.332Z"
   },
   {
    "duration": 1937,
    "start_time": "2022-11-26T16:24:12.415Z"
   },
   {
    "duration": 8057,
    "start_time": "2022-11-26T16:24:14.354Z"
   },
   {
    "duration": 3,
    "start_time": "2022-11-26T16:24:22.413Z"
   },
   {
    "duration": 9,
    "start_time": "2022-11-26T16:24:22.417Z"
   },
   {
    "duration": 9,
    "start_time": "2022-11-26T16:24:22.427Z"
   },
   {
    "duration": 41146,
    "start_time": "2022-11-26T16:24:22.437Z"
   },
   {
    "duration": 204027,
    "start_time": "2022-11-26T16:25:03.585Z"
   },
   {
    "duration": 52,
    "start_time": "2022-11-27T08:52:03.390Z"
   },
   {
    "duration": 4373,
    "start_time": "2022-11-27T08:52:23.488Z"
   },
   {
    "duration": 2,
    "start_time": "2022-11-27T08:52:27.863Z"
   },
   {
    "duration": 3286,
    "start_time": "2022-11-27T08:52:27.867Z"
   },
   {
    "duration": 35,
    "start_time": "2022-11-27T08:52:31.155Z"
   },
   {
    "duration": 17,
    "start_time": "2022-11-27T08:52:31.192Z"
   },
   {
    "duration": 10,
    "start_time": "2022-11-27T08:52:31.211Z"
   },
   {
    "duration": 680,
    "start_time": "2022-11-27T08:52:31.223Z"
   },
   {
    "duration": 1015890,
    "start_time": "2022-11-27T08:52:31.905Z"
   },
   {
    "duration": 8,
    "start_time": "2022-11-27T09:09:27.797Z"
   },
   {
    "duration": 224,
    "start_time": "2022-11-27T09:09:27.808Z"
   },
   {
    "duration": 92,
    "start_time": "2022-11-27T09:09:28.034Z"
   },
   {
    "duration": 2093,
    "start_time": "2022-11-27T09:09:28.127Z"
   },
   {
    "duration": 9442,
    "start_time": "2022-11-27T09:09:30.222Z"
   },
   {
    "duration": 4,
    "start_time": "2022-11-27T09:09:39.666Z"
   },
   {
    "duration": 1293,
    "start_time": "2022-11-27T09:09:39.672Z"
   },
   {
    "duration": 0,
    "start_time": "2022-11-27T09:09:40.967Z"
   },
   {
    "duration": 0,
    "start_time": "2022-11-27T09:09:40.968Z"
   },
   {
    "duration": 0,
    "start_time": "2022-11-27T09:09:40.969Z"
   },
   {
    "duration": 5,
    "start_time": "2022-11-27T09:11:44.345Z"
   },
   {
    "duration": 166,
    "start_time": "2022-11-27T09:11:50.024Z"
   },
   {
    "duration": 4,
    "start_time": "2022-11-27T10:46:41.210Z"
   },
   {
    "duration": 57,
    "start_time": "2022-11-27T10:47:44.416Z"
   },
   {
    "duration": 5,
    "start_time": "2022-11-27T10:47:52.064Z"
   },
   {
    "duration": 70,
    "start_time": "2022-11-27T10:47:56.382Z"
   },
   {
    "duration": 21,
    "start_time": "2022-11-27T10:49:10.159Z"
   },
   {
    "duration": 20,
    "start_time": "2022-11-27T10:49:47.560Z"
   },
   {
    "duration": 20,
    "start_time": "2022-11-27T10:50:25.006Z"
   },
   {
    "duration": 10,
    "start_time": "2022-11-27T10:51:10.564Z"
   },
   {
    "duration": 7,
    "start_time": "2022-11-27T10:51:18.464Z"
   },
   {
    "duration": 7,
    "start_time": "2022-11-27T10:51:32.506Z"
   },
   {
    "duration": 4,
    "start_time": "2022-11-27T10:52:19.519Z"
   },
   {
    "duration": 9,
    "start_time": "2022-11-27T10:52:48.845Z"
   },
   {
    "duration": 47,
    "start_time": "2022-11-27T10:52:51.976Z"
   },
   {
    "duration": 4680,
    "start_time": "2022-11-27T10:53:06.289Z"
   },
   {
    "duration": 5,
    "start_time": "2022-11-27T10:53:10.972Z"
   },
   {
    "duration": 3265,
    "start_time": "2022-11-27T10:53:10.979Z"
   },
   {
    "duration": 33,
    "start_time": "2022-11-27T10:53:14.247Z"
   },
   {
    "duration": 11,
    "start_time": "2022-11-27T10:53:14.282Z"
   },
   {
    "duration": 8,
    "start_time": "2022-11-27T10:53:14.295Z"
   },
   {
    "duration": 681,
    "start_time": "2022-11-27T10:53:14.305Z"
   },
   {
    "duration": 1059137,
    "start_time": "2022-11-27T10:53:14.988Z"
   },
   {
    "duration": 9,
    "start_time": "2022-11-27T11:10:54.127Z"
   },
   {
    "duration": 174,
    "start_time": "2022-11-27T11:10:54.139Z"
   },
   {
    "duration": 116,
    "start_time": "2022-11-27T11:10:54.315Z"
   },
   {
    "duration": 2131,
    "start_time": "2022-11-27T11:10:54.433Z"
   },
   {
    "duration": 10313,
    "start_time": "2022-11-27T11:10:56.567Z"
   },
   {
    "duration": 4,
    "start_time": "2022-11-27T11:11:06.882Z"
   },
   {
    "duration": 255,
    "start_time": "2022-11-27T11:11:06.887Z"
   },
   {
    "duration": 10,
    "start_time": "2022-11-27T11:11:07.145Z"
   },
   {
    "duration": 447,
    "start_time": "2022-11-27T11:11:07.157Z"
   },
   {
    "duration": 0,
    "start_time": "2022-11-27T11:11:07.606Z"
   },
   {
    "duration": 0,
    "start_time": "2022-11-27T11:11:07.608Z"
   },
   {
    "duration": 1,
    "start_time": "2022-11-27T11:11:07.609Z"
   },
   {
    "duration": 27,
    "start_time": "2022-11-27T11:21:42.463Z"
   },
   {
    "duration": 7,
    "start_time": "2022-11-27T11:59:40.149Z"
   },
   {
    "duration": 4596,
    "start_time": "2022-11-27T12:05:36.925Z"
   },
   {
    "duration": 5,
    "start_time": "2022-11-27T12:05:41.524Z"
   },
   {
    "duration": 3177,
    "start_time": "2022-11-27T12:05:41.531Z"
   },
   {
    "duration": 33,
    "start_time": "2022-11-27T12:05:44.709Z"
   },
   {
    "duration": 11,
    "start_time": "2022-11-27T12:05:44.745Z"
   },
   {
    "duration": 5,
    "start_time": "2022-11-27T12:05:44.758Z"
   },
   {
    "duration": 660,
    "start_time": "2022-11-27T12:05:44.765Z"
   },
   {
    "duration": 1027327,
    "start_time": "2022-11-27T12:05:45.427Z"
   },
   {
    "duration": 9,
    "start_time": "2022-11-27T12:22:52.756Z"
   },
   {
    "duration": 229,
    "start_time": "2022-11-27T12:22:52.767Z"
   },
   {
    "duration": 97,
    "start_time": "2022-11-27T12:22:52.998Z"
   },
   {
    "duration": 2133,
    "start_time": "2022-11-27T12:22:53.096Z"
   },
   {
    "duration": 9921,
    "start_time": "2022-11-27T12:22:55.231Z"
   },
   {
    "duration": 3,
    "start_time": "2022-11-27T12:23:05.155Z"
   },
   {
    "duration": 213,
    "start_time": "2022-11-27T12:23:05.159Z"
   },
   {
    "duration": 5,
    "start_time": "2022-11-27T12:23:05.374Z"
   },
   {
    "duration": 389,
    "start_time": "2022-11-27T12:23:05.381Z"
   },
   {
    "duration": 0,
    "start_time": "2022-11-27T12:23:05.772Z"
   },
   {
    "duration": 0,
    "start_time": "2022-11-27T12:23:05.773Z"
   },
   {
    "duration": 0,
    "start_time": "2022-11-27T12:23:05.774Z"
   },
   {
    "duration": 5959,
    "start_time": "2022-11-27T16:48:55.673Z"
   },
   {
    "duration": 7,
    "start_time": "2022-11-27T16:49:01.635Z"
   },
   {
    "duration": 4004,
    "start_time": "2022-11-27T16:49:01.643Z"
   },
   {
    "duration": 44,
    "start_time": "2022-11-27T16:49:05.649Z"
   },
   {
    "duration": 10,
    "start_time": "2022-11-27T16:49:05.695Z"
   },
   {
    "duration": 5,
    "start_time": "2022-11-27T16:49:05.706Z"
   },
   {
    "duration": 672,
    "start_time": "2022-11-27T16:49:05.712Z"
   },
   {
    "duration": 1162508,
    "start_time": "2022-11-27T16:49:06.386Z"
   },
   {
    "duration": 8,
    "start_time": "2022-11-27T17:08:28.896Z"
   },
   {
    "duration": 236,
    "start_time": "2022-11-27T17:08:28.906Z"
   },
   {
    "duration": 116,
    "start_time": "2022-11-27T17:08:29.144Z"
   },
   {
    "duration": 2229,
    "start_time": "2022-11-27T17:08:29.266Z"
   },
   {
    "duration": 5825,
    "start_time": "2022-11-27T17:09:37.444Z"
   },
   {
    "duration": 5,
    "start_time": "2022-11-27T17:09:43.277Z"
   },
   {
    "duration": 3896,
    "start_time": "2022-11-27T17:09:43.284Z"
   },
   {
    "duration": 32,
    "start_time": "2022-11-27T17:09:47.183Z"
   },
   {
    "duration": 11,
    "start_time": "2022-11-27T17:09:47.217Z"
   },
   {
    "duration": 5,
    "start_time": "2022-11-27T17:09:47.230Z"
   },
   {
    "duration": 648,
    "start_time": "2022-11-27T17:09:47.236Z"
   },
   {
    "duration": 1209018,
    "start_time": "2022-11-27T17:09:47.885Z"
   },
   {
    "duration": 9,
    "start_time": "2022-11-27T17:29:56.904Z"
   },
   {
    "duration": 206,
    "start_time": "2022-11-27T17:29:56.916Z"
   },
   {
    "duration": 124,
    "start_time": "2022-11-27T17:29:57.124Z"
   },
   {
    "duration": 465,
    "start_time": "2022-11-27T17:29:57.259Z"
   },
   {
    "duration": 0,
    "start_time": "2022-11-27T17:29:57.726Z"
   },
   {
    "duration": 0,
    "start_time": "2022-11-27T17:29:57.729Z"
   },
   {
    "duration": 0,
    "start_time": "2022-11-27T17:29:57.731Z"
   },
   {
    "duration": 0,
    "start_time": "2022-11-27T17:29:57.732Z"
   },
   {
    "duration": 0,
    "start_time": "2022-11-27T17:29:57.734Z"
   },
   {
    "duration": 0,
    "start_time": "2022-11-27T17:29:57.754Z"
   },
   {
    "duration": 0,
    "start_time": "2022-11-27T17:29:57.756Z"
   },
   {
    "duration": 8529,
    "start_time": "2022-11-27T17:31:39.780Z"
   },
   {
    "duration": 7,
    "start_time": "2022-11-27T17:31:49.851Z"
   },
   {
    "duration": 1563674,
    "start_time": "2022-11-27T17:31:54.536Z"
   },
   {
    "duration": 236,
    "start_time": "2022-11-27T17:57:58.212Z"
   },
   {
    "duration": 229920,
    "start_time": "2022-11-27T17:57:58.450Z"
   },
   {
    "duration": 245,
    "start_time": "2022-11-27T18:01:48.384Z"
   },
   {
    "duration": 169,
    "start_time": "2022-11-27T18:04:11.831Z"
   },
   {
    "duration": 192,
    "start_time": "2022-11-27T18:04:20.533Z"
   },
   {
    "duration": 153,
    "start_time": "2022-11-27T18:04:49.538Z"
   },
   {
    "duration": 136,
    "start_time": "2022-11-27T18:05:42.583Z"
   },
   {
    "duration": 3367582,
    "start_time": "2022-11-27T18:05:56.644Z"
   },
   {
    "duration": 6290,
    "start_time": "2022-11-28T06:41:34.082Z"
   },
   {
    "duration": 5,
    "start_time": "2022-11-28T06:41:40.375Z"
   },
   {
    "duration": 2202,
    "start_time": "2022-11-28T06:41:40.382Z"
   },
   {
    "duration": 27,
    "start_time": "2022-11-28T06:41:42.587Z"
   },
   {
    "duration": 9,
    "start_time": "2022-11-28T06:41:42.616Z"
   },
   {
    "duration": 5,
    "start_time": "2022-11-28T06:41:42.627Z"
   },
   {
    "duration": 593,
    "start_time": "2022-11-28T06:41:42.633Z"
   },
   {
    "duration": 863789,
    "start_time": "2022-11-28T06:41:43.228Z"
   },
   {
    "duration": 7,
    "start_time": "2022-11-28T06:56:07.019Z"
   },
   {
    "duration": 189,
    "start_time": "2022-11-28T06:56:07.028Z"
   },
   {
    "duration": 72,
    "start_time": "2022-11-28T06:56:07.218Z"
   },
   {
    "duration": 5943,
    "start_time": "2022-11-28T06:56:07.292Z"
   },
   {
    "duration": 3,
    "start_time": "2022-11-28T06:56:13.237Z"
   },
   {
    "duration": 200,
    "start_time": "2022-11-28T06:56:13.241Z"
   },
   {
    "duration": 4,
    "start_time": "2022-11-28T06:56:13.442Z"
   },
   {
    "duration": 351,
    "start_time": "2022-11-28T06:56:13.447Z"
   },
   {
    "duration": 0,
    "start_time": "2022-11-28T06:56:13.799Z"
   },
   {
    "duration": 0,
    "start_time": "2022-11-28T06:56:13.801Z"
   },
   {
    "duration": 0,
    "start_time": "2022-11-28T06:56:13.801Z"
   },
   {
    "duration": 8749696,
    "start_time": "2022-11-28T07:05:02.963Z"
   },
   {
    "duration": 944180,
    "start_time": "2022-11-28T09:30:52.661Z"
   },
   {
    "duration": 2226,
    "start_time": "2022-11-28T09:46:36.843Z"
   },
   {
    "duration": 5893,
    "start_time": "2022-11-28T09:50:08.065Z"
   },
   {
    "duration": 6,
    "start_time": "2022-11-28T09:50:13.962Z"
   },
   {
    "duration": 781,
    "start_time": "2022-11-28T09:50:13.970Z"
   },
   {
    "duration": 44,
    "start_time": "2022-11-28T09:50:14.754Z"
   },
   {
    "duration": 14,
    "start_time": "2022-11-28T09:50:14.801Z"
   },
   {
    "duration": 9,
    "start_time": "2022-11-28T09:50:14.817Z"
   },
   {
    "duration": 708,
    "start_time": "2022-11-28T09:50:14.828Z"
   },
   {
    "duration": 5178,
    "start_time": "2022-11-28T10:07:41.201Z"
   },
   {
    "duration": 5,
    "start_time": "2022-11-28T10:07:46.382Z"
   },
   {
    "duration": 848,
    "start_time": "2022-11-28T10:07:46.389Z"
   },
   {
    "duration": 32,
    "start_time": "2022-11-28T10:07:47.239Z"
   },
   {
    "duration": 42,
    "start_time": "2022-11-28T10:07:47.274Z"
   },
   {
    "duration": 29,
    "start_time": "2022-11-28T10:07:47.318Z"
   },
   {
    "duration": 507,
    "start_time": "2022-11-28T10:07:47.348Z"
   },
   {
    "duration": 921323,
    "start_time": "2022-11-28T10:07:47.857Z"
   },
   {
    "duration": 16,
    "start_time": "2022-11-28T10:23:09.182Z"
   },
   {
    "duration": 200,
    "start_time": "2022-11-28T10:23:09.199Z"
   },
   {
    "duration": 4,
    "start_time": "2022-11-28T10:23:09.401Z"
   },
   {
    "duration": 80,
    "start_time": "2022-11-28T10:23:09.407Z"
   },
   {
    "duration": 168,
    "start_time": "2022-11-28T10:23:09.488Z"
   },
   {
    "duration": 4,
    "start_time": "2022-11-28T10:23:09.658Z"
   },
   {
    "duration": 358,
    "start_time": "2022-11-28T10:23:09.664Z"
   },
   {
    "duration": 0,
    "start_time": "2022-11-28T10:23:10.025Z"
   },
   {
    "duration": 0,
    "start_time": "2022-11-28T10:23:10.026Z"
   },
   {
    "duration": 0,
    "start_time": "2022-11-28T10:23:10.027Z"
   },
   {
    "duration": 0,
    "start_time": "2022-11-28T10:23:10.030Z"
   },
   {
    "duration": 4,
    "start_time": "2022-11-28T10:32:11.711Z"
   },
   {
    "duration": 4,
    "start_time": "2022-11-28T10:32:18.820Z"
   },
   {
    "duration": 63,
    "start_time": "2022-11-28T10:32:20.369Z"
   },
   {
    "duration": 6445,
    "start_time": "2022-11-28T10:32:22.880Z"
   },
   {
    "duration": 223457,
    "start_time": "2022-11-28T10:32:32.141Z"
   },
   {
    "duration": 441113,
    "start_time": "2022-11-28T10:54:43.760Z"
   },
   {
    "duration": 4142,
    "start_time": "2022-11-28T11:05:10.270Z"
   },
   {
    "duration": 5,
    "start_time": "2022-11-28T11:05:14.414Z"
   },
   {
    "duration": 910,
    "start_time": "2022-11-28T11:05:14.421Z"
   },
   {
    "duration": 31,
    "start_time": "2022-11-28T11:05:15.334Z"
   },
   {
    "duration": 9,
    "start_time": "2022-11-28T11:05:15.367Z"
   },
   {
    "duration": 20,
    "start_time": "2022-11-28T11:05:15.378Z"
   },
   {
    "duration": 504,
    "start_time": "2022-11-28T11:05:15.400Z"
   },
   {
    "duration": 929825,
    "start_time": "2022-11-28T11:05:15.906Z"
   },
   {
    "duration": 8,
    "start_time": "2022-11-28T11:20:45.732Z"
   },
   {
    "duration": 156,
    "start_time": "2022-11-28T11:20:45.742Z"
   },
   {
    "duration": 3,
    "start_time": "2022-11-28T11:20:45.900Z"
   },
   {
    "duration": 70,
    "start_time": "2022-11-28T11:20:45.905Z"
   },
   {
    "duration": 164,
    "start_time": "2022-11-28T11:20:45.977Z"
   },
   {
    "duration": 3,
    "start_time": "2022-11-28T11:20:46.143Z"
   },
   {
    "duration": 86,
    "start_time": "2022-11-28T11:20:46.148Z"
   },
   {
    "duration": 9525,
    "start_time": "2022-11-28T11:20:46.235Z"
   },
   {
    "duration": 3,
    "start_time": "2022-11-28T11:20:55.761Z"
   },
   {
    "duration": 313067,
    "start_time": "2022-11-28T11:20:55.766Z"
   },
   {
    "duration": 3,
    "start_time": "2022-11-28T11:26:08.834Z"
   },
   {
    "duration": 4169,
    "start_time": "2022-11-28T11:29:19.947Z"
   },
   {
    "duration": 5,
    "start_time": "2022-11-28T11:29:24.119Z"
   },
   {
    "duration": 888,
    "start_time": "2022-11-28T11:29:24.126Z"
   },
   {
    "duration": 42,
    "start_time": "2022-11-28T11:29:25.017Z"
   },
   {
    "duration": 36,
    "start_time": "2022-11-28T11:29:25.060Z"
   },
   {
    "duration": 7,
    "start_time": "2022-11-28T11:29:25.099Z"
   },
   {
    "duration": 539,
    "start_time": "2022-11-28T11:29:25.109Z"
   },
   {
    "duration": 903078,
    "start_time": "2022-11-28T11:29:25.650Z"
   },
   {
    "duration": 7,
    "start_time": "2022-11-28T11:44:28.729Z"
   },
   {
    "duration": 160,
    "start_time": "2022-11-28T11:44:28.738Z"
   },
   {
    "duration": 2,
    "start_time": "2022-11-28T11:44:28.900Z"
   },
   {
    "duration": 65,
    "start_time": "2022-11-28T11:44:28.903Z"
   },
   {
    "duration": 160,
    "start_time": "2022-11-28T11:44:28.970Z"
   },
   {
    "duration": 3,
    "start_time": "2022-11-28T11:44:29.132Z"
   },
   {
    "duration": 66,
    "start_time": "2022-11-28T11:44:29.137Z"
   },
   {
    "duration": 13436,
    "start_time": "2022-11-28T11:44:29.204Z"
   },
   {
    "duration": 691483,
    "start_time": "2022-11-28T11:44:42.642Z"
   },
   {
    "duration": 3,
    "start_time": "2022-11-28T11:56:14.126Z"
   },
   {
    "duration": 611968,
    "start_time": "2022-11-28T11:56:14.131Z"
   },
   {
    "duration": 376,
    "start_time": "2022-11-28T12:06:26.101Z"
   },
   {
    "duration": 8,
    "start_time": "2022-11-28T12:11:27.199Z"
   },
   {
    "duration": 13658,
    "start_time": "2022-11-28T12:11:34.211Z"
   },
   {
    "duration": 1211651,
    "start_time": "2022-11-28T12:11:47.871Z"
   },
   {
    "duration": 3824492,
    "start_time": "2022-11-28T12:31:59.524Z"
   },
   {
    "duration": 1769890,
    "start_time": "2022-11-28T13:35:44.018Z"
   },
   {
    "duration": 758103,
    "start_time": "2022-11-28T14:05:13.910Z"
   },
   {
    "duration": 560,
    "start_time": "2022-11-28T14:17:52.016Z"
   },
   {
    "duration": 20,
    "start_time": "2022-11-28T14:21:02.252Z"
   },
   {
    "duration": 941410,
    "start_time": "2022-11-28T14:21:46.502Z"
   },
   {
    "duration": 17,
    "start_time": "2022-11-28T14:37:27.914Z"
   },
   {
    "duration": 18,
    "start_time": "2022-11-28T14:45:13.372Z"
   },
   {
    "duration": 20,
    "start_time": "2022-11-28T14:47:25.822Z"
   },
   {
    "duration": 21,
    "start_time": "2022-11-28T14:47:35.195Z"
   },
   {
    "duration": 4,
    "start_time": "2022-11-28T14:47:42.199Z"
   },
   {
    "duration": 22,
    "start_time": "2022-11-28T14:47:47.687Z"
   },
   {
    "duration": 20,
    "start_time": "2022-11-28T14:47:55.706Z"
   },
   {
    "duration": 148,
    "start_time": "2022-11-28T14:50:24.500Z"
   },
   {
    "duration": 3802,
    "start_time": "2022-11-28T14:51:03.121Z"
   },
   {
    "duration": 5,
    "start_time": "2022-11-28T14:51:06.925Z"
   },
   {
    "duration": 789,
    "start_time": "2022-11-28T14:51:06.931Z"
   },
   {
    "duration": 28,
    "start_time": "2022-11-28T14:51:07.722Z"
   },
   {
    "duration": 9,
    "start_time": "2022-11-28T14:51:07.752Z"
   },
   {
    "duration": 5,
    "start_time": "2022-11-28T14:51:07.763Z"
   },
   {
    "duration": 520,
    "start_time": "2022-11-28T14:51:07.769Z"
   },
   {
    "duration": 869272,
    "start_time": "2022-11-28T14:51:08.290Z"
   },
   {
    "duration": 8,
    "start_time": "2022-11-28T15:05:37.564Z"
   },
   {
    "duration": 238,
    "start_time": "2022-11-28T15:05:37.574Z"
   },
   {
    "duration": 2,
    "start_time": "2022-11-28T15:05:37.814Z"
   },
   {
    "duration": 81,
    "start_time": "2022-11-28T15:05:37.818Z"
   },
   {
    "duration": 219,
    "start_time": "2022-11-28T15:05:37.901Z"
   },
   {
    "duration": 4,
    "start_time": "2022-11-28T15:05:38.122Z"
   },
   {
    "duration": 401,
    "start_time": "2022-11-28T15:05:38.128Z"
   },
   {
    "duration": 0,
    "start_time": "2022-11-28T15:05:38.531Z"
   },
   {
    "duration": 0,
    "start_time": "2022-11-28T15:05:38.532Z"
   },
   {
    "duration": 0,
    "start_time": "2022-11-28T15:05:38.533Z"
   },
   {
    "duration": 0,
    "start_time": "2022-11-28T15:05:38.534Z"
   },
   {
    "duration": 1,
    "start_time": "2022-11-28T15:05:38.534Z"
   },
   {
    "duration": 0,
    "start_time": "2022-11-28T15:05:38.535Z"
   },
   {
    "duration": 0,
    "start_time": "2022-11-28T15:05:38.536Z"
   },
   {
    "duration": 3881,
    "start_time": "2022-11-28T15:13:49.601Z"
   },
   {
    "duration": 5,
    "start_time": "2022-11-28T15:13:53.484Z"
   },
   {
    "duration": 833,
    "start_time": "2022-11-28T15:13:53.490Z"
   },
   {
    "duration": 23,
    "start_time": "2022-11-28T15:13:54.325Z"
   },
   {
    "duration": 22,
    "start_time": "2022-11-28T15:13:54.350Z"
   },
   {
    "duration": 6,
    "start_time": "2022-11-28T15:13:54.373Z"
   },
   {
    "duration": 553,
    "start_time": "2022-11-28T15:13:54.380Z"
   },
   {
    "duration": 895642,
    "start_time": "2022-11-28T15:13:54.934Z"
   },
   {
    "duration": 7,
    "start_time": "2022-11-28T15:28:50.578Z"
   },
   {
    "duration": 225,
    "start_time": "2022-11-28T15:28:50.598Z"
   },
   {
    "duration": 2,
    "start_time": "2022-11-28T15:28:50.825Z"
   },
   {
    "duration": 65,
    "start_time": "2022-11-28T15:28:50.829Z"
   },
   {
    "duration": 154,
    "start_time": "2022-11-28T15:28:50.896Z"
   },
   {
    "duration": 4,
    "start_time": "2022-11-28T15:28:51.051Z"
   },
   {
    "duration": 74,
    "start_time": "2022-11-28T15:28:51.056Z"
   },
   {
    "duration": 9403,
    "start_time": "2022-11-28T15:28:51.131Z"
   },
   {
    "duration": 1000729,
    "start_time": "2022-11-28T15:29:00.536Z"
   },
   {
    "duration": 1285010,
    "start_time": "2022-11-28T15:45:41.266Z"
   },
   {
    "duration": 940624,
    "start_time": "2022-11-28T16:07:06.278Z"
   },
   {
    "duration": 16,
    "start_time": "2022-11-28T16:22:46.903Z"
   },
   {
    "duration": 16,
    "start_time": "2022-11-28T16:22:46.921Z"
   },
   {
    "duration": 159,
    "start_time": "2022-11-28T16:22:46.939Z"
   },
   {
    "duration": 19,
    "start_time": "2022-11-28T16:23:49.943Z"
   },
   {
    "duration": 4243,
    "start_time": "2022-11-29T07:17:12.402Z"
   },
   {
    "duration": 6,
    "start_time": "2022-11-29T07:17:16.647Z"
   },
   {
    "duration": 3189,
    "start_time": "2022-11-29T07:17:16.655Z"
   },
   {
    "duration": 32,
    "start_time": "2022-11-29T07:17:19.847Z"
   },
   {
    "duration": 11,
    "start_time": "2022-11-29T07:17:19.881Z"
   },
   {
    "duration": 4,
    "start_time": "2022-11-29T07:17:19.894Z"
   },
   {
    "duration": 565,
    "start_time": "2022-11-29T07:17:19.900Z"
   },
   {
    "duration": 4703,
    "start_time": "2022-11-29T07:20:06.831Z"
   },
   {
    "duration": 5,
    "start_time": "2022-11-29T07:20:11.537Z"
   },
   {
    "duration": 818,
    "start_time": "2022-11-29T07:20:11.543Z"
   },
   {
    "duration": 34,
    "start_time": "2022-11-29T07:20:12.363Z"
   },
   {
    "duration": 31,
    "start_time": "2022-11-29T07:20:12.400Z"
   },
   {
    "duration": 39,
    "start_time": "2022-11-29T07:20:12.433Z"
   },
   {
    "duration": 606,
    "start_time": "2022-11-29T07:20:12.473Z"
   },
   {
    "duration": 1083514,
    "start_time": "2022-11-29T07:20:13.081Z"
   },
   {
    "duration": 18,
    "start_time": "2022-11-29T07:38:16.597Z"
   },
   {
    "duration": 187,
    "start_time": "2022-11-29T07:38:16.616Z"
   },
   {
    "duration": 4,
    "start_time": "2022-11-29T07:38:16.804Z"
   },
   {
    "duration": 65,
    "start_time": "2022-11-29T07:38:16.809Z"
   },
   {
    "duration": 218,
    "start_time": "2022-11-29T07:38:16.876Z"
   },
   {
    "duration": 2,
    "start_time": "2022-11-29T07:38:17.097Z"
   },
   {
    "duration": 6,
    "start_time": "2022-11-29T07:38:17.101Z"
   },
   {
    "duration": 6519,
    "start_time": "2022-11-29T07:38:17.112Z"
   },
   {
    "duration": 656205,
    "start_time": "2022-11-29T07:38:23.633Z"
   },
   {
    "duration": 775059,
    "start_time": "2022-11-29T07:49:19.839Z"
   },
   {
    "duration": 129095,
    "start_time": "2022-11-29T08:02:14.900Z"
   },
   {
    "duration": 24,
    "start_time": "2022-11-29T08:04:23.997Z"
   },
   {
    "duration": 22,
    "start_time": "2022-11-29T08:04:24.022Z"
   },
   {
    "duration": 162,
    "start_time": "2022-11-29T08:04:24.045Z"
   },
   {
    "duration": 707175,
    "start_time": "2022-11-29T08:04:38.656Z"
   },
   {
    "duration": 77,
    "start_time": "2022-11-29T08:16:25.836Z"
   },
   {
    "duration": 29,
    "start_time": "2022-11-29T08:16:25.915Z"
   },
   {
    "duration": 183,
    "start_time": "2022-11-29T08:16:25.947Z"
   },
   {
    "duration": 430386,
    "start_time": "2022-11-29T08:51:47.620Z"
   },
   {
    "duration": 925349,
    "start_time": "2022-11-29T08:58:58.009Z"
   },
   {
    "duration": 480298,
    "start_time": "2022-11-29T11:01:30.627Z"
   },
   {
    "duration": 5,
    "start_time": "2022-11-29T11:59:51.469Z"
   },
   {
    "duration": 36,
    "start_time": "2022-11-29T12:02:35.026Z"
   },
   {
    "duration": 19,
    "start_time": "2022-11-29T12:02:43.481Z"
   },
   {
    "duration": 22,
    "start_time": "2022-11-29T12:03:19.712Z"
   },
   {
    "duration": 21,
    "start_time": "2022-11-29T12:04:06.537Z"
   },
   {
    "duration": 23,
    "start_time": "2022-11-29T12:05:28.018Z"
   },
   {
    "duration": 21,
    "start_time": "2022-11-29T12:07:34.248Z"
   },
   {
    "duration": 22,
    "start_time": "2022-11-29T12:07:49.840Z"
   },
   {
    "duration": 49,
    "start_time": "2022-11-29T12:08:59.614Z"
   },
   {
    "duration": 46,
    "start_time": "2022-11-29T12:15:48.692Z"
   },
   {
    "duration": 3997,
    "start_time": "2022-11-29T12:16:13.817Z"
   },
   {
    "duration": 6,
    "start_time": "2022-11-29T12:16:17.817Z"
   },
   {
    "duration": 712,
    "start_time": "2022-11-29T12:16:17.825Z"
   },
   {
    "duration": 32,
    "start_time": "2022-11-29T12:16:18.539Z"
   },
   {
    "duration": 10,
    "start_time": "2022-11-29T12:16:18.573Z"
   },
   {
    "duration": 5,
    "start_time": "2022-11-29T12:16:18.585Z"
   },
   {
    "duration": 491,
    "start_time": "2022-11-29T12:16:18.592Z"
   },
   {
    "duration": 980629,
    "start_time": "2022-11-29T12:16:19.085Z"
   },
   {
    "duration": 8,
    "start_time": "2022-11-29T12:32:39.716Z"
   },
   {
    "duration": 158,
    "start_time": "2022-11-29T12:32:39.727Z"
   },
   {
    "duration": 3,
    "start_time": "2022-11-29T12:32:39.887Z"
   },
   {
    "duration": 62,
    "start_time": "2022-11-29T12:32:39.892Z"
   },
   {
    "duration": 3,
    "start_time": "2022-11-29T12:32:39.956Z"
   },
   {
    "duration": 157,
    "start_time": "2022-11-29T12:32:39.960Z"
   },
   {
    "duration": 2,
    "start_time": "2022-11-29T12:32:40.119Z"
   },
   {
    "duration": 11,
    "start_time": "2022-11-29T12:32:40.123Z"
   },
   {
    "duration": 382,
    "start_time": "2022-11-29T12:32:40.135Z"
   },
   {
    "duration": 0,
    "start_time": "2022-11-29T12:32:40.519Z"
   },
   {
    "duration": 0,
    "start_time": "2022-11-29T12:32:40.521Z"
   },
   {
    "duration": 0,
    "start_time": "2022-11-29T12:32:40.522Z"
   },
   {
    "duration": 0,
    "start_time": "2022-11-29T12:32:40.524Z"
   },
   {
    "duration": 0,
    "start_time": "2022-11-29T12:32:40.524Z"
   },
   {
    "duration": 0,
    "start_time": "2022-11-29T12:32:40.526Z"
   },
   {
    "duration": 595888,
    "start_time": "2022-11-29T12:37:50.582Z"
   },
   {
    "duration": 603423,
    "start_time": "2022-11-29T12:51:58.634Z"
   },
   {
    "duration": 3275619,
    "start_time": "2022-11-29T13:09:53.157Z"
   },
   {
    "duration": 4681,
    "start_time": "2022-11-29T14:04:59.570Z"
   },
   {
    "duration": 5,
    "start_time": "2022-11-29T14:05:04.253Z"
   },
   {
    "duration": 972,
    "start_time": "2022-11-29T14:05:04.313Z"
   },
   {
    "duration": 36,
    "start_time": "2022-11-29T14:05:05.287Z"
   },
   {
    "duration": 11,
    "start_time": "2022-11-29T14:05:05.325Z"
   },
   {
    "duration": 12,
    "start_time": "2022-11-29T14:05:05.338Z"
   },
   {
    "duration": 485,
    "start_time": "2022-11-29T14:05:05.351Z"
   },
   {
    "duration": 4159,
    "start_time": "2022-11-29T14:08:58.502Z"
   },
   {
    "duration": 6,
    "start_time": "2022-11-29T14:09:02.662Z"
   },
   {
    "duration": 757,
    "start_time": "2022-11-29T14:09:02.669Z"
   },
   {
    "duration": 33,
    "start_time": "2022-11-29T14:09:03.428Z"
   },
   {
    "duration": 11,
    "start_time": "2022-11-29T14:09:03.462Z"
   },
   {
    "duration": 5,
    "start_time": "2022-11-29T14:09:03.475Z"
   },
   {
    "duration": 478,
    "start_time": "2022-11-29T14:09:03.481Z"
   },
   {
    "duration": 998328,
    "start_time": "2022-11-29T14:09:03.961Z"
   },
   {
    "duration": 7,
    "start_time": "2022-11-29T14:25:42.290Z"
   },
   {
    "duration": 231,
    "start_time": "2022-11-29T14:25:42.312Z"
   },
   {
    "duration": 3,
    "start_time": "2022-11-29T14:25:42.545Z"
   },
   {
    "duration": 64,
    "start_time": "2022-11-29T14:25:42.549Z"
   },
   {
    "duration": 3,
    "start_time": "2022-11-29T14:25:42.614Z"
   },
   {
    "duration": 185,
    "start_time": "2022-11-29T14:25:42.618Z"
   },
   {
    "duration": 3,
    "start_time": "2022-11-29T14:25:42.804Z"
   },
   {
    "duration": 2,
    "start_time": "2022-11-29T14:25:42.813Z"
   },
   {
    "duration": 598587,
    "start_time": "2022-11-29T14:25:42.817Z"
   },
   {
    "duration": 2,
    "start_time": "2022-11-29T14:35:41.407Z"
   },
   {
    "duration": 686466,
    "start_time": "2022-11-29T14:35:41.410Z"
   },
   {
    "duration": 2,
    "start_time": "2022-11-29T14:47:07.878Z"
   },
   {
    "duration": 2649974,
    "start_time": "2022-11-29T14:47:07.881Z"
   },
   {
    "duration": 23,
    "start_time": "2022-11-29T15:31:17.857Z"
   },
   {
    "duration": 0,
    "start_time": "2022-11-29T15:31:17.882Z"
   },
   {
    "duration": 0,
    "start_time": "2022-11-29T15:31:17.883Z"
   },
   {
    "duration": 2647366,
    "start_time": "2022-11-29T15:40:15.661Z"
   },
   {
    "duration": 1667,
    "start_time": "2022-11-29T16:24:34.300Z"
   },
   {
    "duration": 32,
    "start_time": "2022-11-29T16:24:38.294Z"
   },
   {
    "duration": 1597,
    "start_time": "2022-11-29T16:24:51.204Z"
   },
   {
    "duration": 159,
    "start_time": "2022-11-29T16:24:57.178Z"
   }
  ],
  "kernelspec": {
   "display_name": "Python 3 (ipykernel)",
   "language": "python",
   "name": "python3"
  },
  "language_info": {
   "codemirror_mode": {
    "name": "ipython",
    "version": 3
   },
   "file_extension": ".py",
   "mimetype": "text/x-python",
   "name": "python",
   "nbconvert_exporter": "python",
   "pygments_lexer": "ipython3",
   "version": "3.9.12"
  },
  "toc": {
   "base_numbering": 1,
   "nav_menu": {},
   "number_sections": true,
   "sideBar": true,
   "skip_h1_title": true,
   "title_cell": "Содержание",
   "title_sidebar": "Contents",
   "toc_cell": true,
   "toc_position": {
    "height": "calc(100% - 180px)",
    "left": "10px",
    "top": "150px",
    "width": "302.391px"
   },
   "toc_section_display": true,
   "toc_window_display": true
  }
 },
 "nbformat": 4,
 "nbformat_minor": 2
}
